{
 "cells": [
  {
   "cell_type": "code",
   "execution_count": 23,
   "metadata": {
    "colab": {
     "base_uri": "https://localhost:8080/"
    },
    "id": "Zkg4A07vDyXl",
    "outputId": "f83ee5a3-233a-4620-a7f9-3cc6b179e005"
   },
   "outputs": [
    {
     "name": "stdout",
     "output_type": "stream",
     "text": [
      "Collecting catboost\n",
      "  Downloading catboost-1.2.2-cp310-cp310-manylinux2014_x86_64.whl (98.7 MB)\n",
      "\u001b[2K     \u001b[90m━━━━━━━━━━━━━━━━━━━━━━━━━━━━━━━━━━━━━━━━\u001b[0m \u001b[32m98.7/98.7 MB\u001b[0m \u001b[31m8.1 MB/s\u001b[0m eta \u001b[36m0:00:00\u001b[0m\n",
      "\u001b[?25hRequirement already satisfied: graphviz in /usr/local/lib/python3.10/dist-packages (from catboost) (0.20.1)\n",
      "Requirement already satisfied: matplotlib in /usr/local/lib/python3.10/dist-packages (from catboost) (3.7.1)\n",
      "Requirement already satisfied: numpy>=1.16.0 in /usr/local/lib/python3.10/dist-packages (from catboost) (1.23.5)\n",
      "Requirement already satisfied: pandas>=0.24 in /usr/local/lib/python3.10/dist-packages (from catboost) (1.5.3)\n",
      "Requirement already satisfied: scipy in /usr/local/lib/python3.10/dist-packages (from catboost) (1.11.3)\n",
      "Requirement already satisfied: plotly in /usr/local/lib/python3.10/dist-packages (from catboost) (5.15.0)\n",
      "Requirement already satisfied: six in /usr/local/lib/python3.10/dist-packages (from catboost) (1.16.0)\n",
      "Requirement already satisfied: python-dateutil>=2.8.1 in /usr/local/lib/python3.10/dist-packages (from pandas>=0.24->catboost) (2.8.2)\n",
      "Requirement already satisfied: pytz>=2020.1 in /usr/local/lib/python3.10/dist-packages (from pandas>=0.24->catboost) (2023.3.post1)\n",
      "Requirement already satisfied: contourpy>=1.0.1 in /usr/local/lib/python3.10/dist-packages (from matplotlib->catboost) (1.2.0)\n",
      "Requirement already satisfied: cycler>=0.10 in /usr/local/lib/python3.10/dist-packages (from matplotlib->catboost) (0.12.1)\n",
      "Requirement already satisfied: fonttools>=4.22.0 in /usr/local/lib/python3.10/dist-packages (from matplotlib->catboost) (4.44.3)\n",
      "Requirement already satisfied: kiwisolver>=1.0.1 in /usr/local/lib/python3.10/dist-packages (from matplotlib->catboost) (1.4.5)\n",
      "Requirement already satisfied: packaging>=20.0 in /usr/local/lib/python3.10/dist-packages (from matplotlib->catboost) (23.2)\n",
      "Requirement already satisfied: pillow>=6.2.0 in /usr/local/lib/python3.10/dist-packages (from matplotlib->catboost) (9.4.0)\n",
      "Requirement already satisfied: pyparsing>=2.3.1 in /usr/local/lib/python3.10/dist-packages (from matplotlib->catboost) (3.1.1)\n",
      "Requirement already satisfied: tenacity>=6.2.0 in /usr/local/lib/python3.10/dist-packages (from plotly->catboost) (8.2.3)\n",
      "Installing collected packages: catboost\n",
      "Successfully installed catboost-1.2.2\n"
     ]
    }
   ],
   "source": [
    "!pip install catboost"
   ]
  },
  {
   "cell_type": "code",
   "execution_count": 4,
   "metadata": {
    "id": "rAKL6mdAAr5Z"
   },
   "outputs": [],
   "source": [
    "import pandas as pd\n",
    "import numpy as np"
   ]
  },
  {
   "cell_type": "code",
   "execution_count": null,
   "metadata": {},
   "outputs": [],
   "source": []
  },
  {
   "cell_type": "code",
   "execution_count": 7,
   "metadata": {
    "id": "C0RLMecIA6lx"
   },
   "outputs": [],
   "source": [
    "data = pd.read_csv(\"diabetes.csv\")"
   ]
  },
  {
   "cell_type": "code",
   "execution_count": 8,
   "metadata": {
    "colab": {
     "base_uri": "https://localhost:8080/",
     "height": 424
    },
    "id": "YhSE3l1BBD_L",
    "outputId": "ea4f7066-4028-4497-fbde-03ca5076f6f3"
   },
   "outputs": [
    {
     "data": {
      "text/html": [
       "<div>\n",
       "<style scoped>\n",
       "    .dataframe tbody tr th:only-of-type {\n",
       "        vertical-align: middle;\n",
       "    }\n",
       "\n",
       "    .dataframe tbody tr th {\n",
       "        vertical-align: top;\n",
       "    }\n",
       "\n",
       "    .dataframe thead th {\n",
       "        text-align: right;\n",
       "    }\n",
       "</style>\n",
       "<table border=\"1\" class=\"dataframe\">\n",
       "  <thead>\n",
       "    <tr style=\"text-align: right;\">\n",
       "      <th></th>\n",
       "      <th>id</th>\n",
       "      <th>encounter_id</th>\n",
       "      <th>patient_nbr</th>\n",
       "      <th>payer_code</th>\n",
       "    </tr>\n",
       "  </thead>\n",
       "  <tbody>\n",
       "    <tr>\n",
       "      <th>0</th>\n",
       "      <td>1</td>\n",
       "      <td>2278392</td>\n",
       "      <td>8222157</td>\n",
       "      <td>?</td>\n",
       "    </tr>\n",
       "    <tr>\n",
       "      <th>1</th>\n",
       "      <td>2</td>\n",
       "      <td>149190</td>\n",
       "      <td>55629189</td>\n",
       "      <td>?</td>\n",
       "    </tr>\n",
       "    <tr>\n",
       "      <th>2</th>\n",
       "      <td>3</td>\n",
       "      <td>64410</td>\n",
       "      <td>86047875</td>\n",
       "      <td>?</td>\n",
       "    </tr>\n",
       "    <tr>\n",
       "      <th>3</th>\n",
       "      <td>4</td>\n",
       "      <td>500364</td>\n",
       "      <td>82442376</td>\n",
       "      <td>?</td>\n",
       "    </tr>\n",
       "    <tr>\n",
       "      <th>4</th>\n",
       "      <td>5</td>\n",
       "      <td>16680</td>\n",
       "      <td>42519267</td>\n",
       "      <td>?</td>\n",
       "    </tr>\n",
       "    <tr>\n",
       "      <th>...</th>\n",
       "      <td>...</td>\n",
       "      <td>...</td>\n",
       "      <td>...</td>\n",
       "      <td>...</td>\n",
       "    </tr>\n",
       "    <tr>\n",
       "      <th>101761</th>\n",
       "      <td>101762</td>\n",
       "      <td>443847548</td>\n",
       "      <td>100162476</td>\n",
       "      <td>MC</td>\n",
       "    </tr>\n",
       "    <tr>\n",
       "      <th>101762</th>\n",
       "      <td>101763</td>\n",
       "      <td>443847782</td>\n",
       "      <td>74694222</td>\n",
       "      <td>MC</td>\n",
       "    </tr>\n",
       "    <tr>\n",
       "      <th>101763</th>\n",
       "      <td>101764</td>\n",
       "      <td>443854148</td>\n",
       "      <td>41088789</td>\n",
       "      <td>MC</td>\n",
       "    </tr>\n",
       "    <tr>\n",
       "      <th>101764</th>\n",
       "      <td>101765</td>\n",
       "      <td>443857166</td>\n",
       "      <td>31693671</td>\n",
       "      <td>MC</td>\n",
       "    </tr>\n",
       "    <tr>\n",
       "      <th>101765</th>\n",
       "      <td>101766</td>\n",
       "      <td>443867222</td>\n",
       "      <td>175429310</td>\n",
       "      <td>?</td>\n",
       "    </tr>\n",
       "  </tbody>\n",
       "</table>\n",
       "<p>101766 rows × 4 columns</p>\n",
       "</div>"
      ],
      "text/plain": [
       "            id  encounter_id  patient_nbr payer_code\n",
       "0            1       2278392      8222157          ?\n",
       "1            2        149190     55629189          ?\n",
       "2            3         64410     86047875          ?\n",
       "3            4        500364     82442376          ?\n",
       "4            5         16680     42519267          ?\n",
       "...        ...           ...          ...        ...\n",
       "101761  101762     443847548    100162476         MC\n",
       "101762  101763     443847782     74694222         MC\n",
       "101763  101764     443854148     41088789         MC\n",
       "101764  101765     443857166     31693671         MC\n",
       "101765  101766     443867222    175429310          ?\n",
       "\n",
       "[101766 rows x 4 columns]"
      ]
     },
     "execution_count": 8,
     "metadata": {},
     "output_type": "execute_result"
    }
   ],
   "source": [
    "##Redundant Features\n",
    "cols = ['id', 'encounter_id', 'patient_nbr','payer_code']\n",
    "data[cols]"
   ]
  },
  {
   "cell_type": "code",
   "execution_count": 9,
   "metadata": {
    "id": "y8ikTx1tCOgw"
   },
   "outputs": [],
   "source": [
    "data = data.drop(columns = cols)"
   ]
  },
  {
   "cell_type": "code",
   "execution_count": 10,
   "metadata": {
    "id": "Z-bK-uV7CRUR"
   },
   "outputs": [],
   "source": [
    "#data = data.replace(\"?\", np.nan)"
   ]
  },
  {
   "cell_type": "code",
   "execution_count": 11,
   "metadata": {
    "colab": {
     "base_uri": "https://localhost:8080/"
    },
    "id": "TqT0U3mvCVlV",
    "outputId": "c7e76d21-b9e5-4aca-b8f4-7736fabf6d10"
   },
   "outputs": [
    {
     "name": "stdout",
     "output_type": "stream",
     "text": [
      "Features with Missing Values\n"
     ]
    },
    {
     "data": {
      "text/plain": [
       "max_glu_serum    94.746772\n",
       "A1Cresult        83.277322\n",
       "dtype: float64"
      ]
     },
     "execution_count": 11,
     "metadata": {},
     "output_type": "execute_result"
    }
   ],
   "source": [
    "missing = data.isna().sum()\n",
    "print(\"Features with Missing Values\")\n",
    "100 * missing[missing>0]/data.shape[0]"
   ]
  },
  {
   "cell_type": "code",
   "execution_count": 12,
   "metadata": {
    "id": "5IsMwg1mChPJ"
   },
   "outputs": [],
   "source": [
    "data['readmitted'] = data['readmitted'].apply(lambda x : 0 if (x == '>30' or x == 'NO') else 1)"
   ]
  },
  {
   "cell_type": "code",
   "execution_count": 13,
   "metadata": {
    "id": "KUD86lnbDCsm"
   },
   "outputs": [],
   "source": [
    "from sklearn.preprocessing import LabelEncoder\n",
    "label_encoder = LabelEncoder()"
   ]
  },
  {
   "cell_type": "code",
   "execution_count": 14,
   "metadata": {
    "id": "1p5uWsSlDpw5"
   },
   "outputs": [],
   "source": [
    "for column in data.columns:\n",
    "    if data[column].dtype == 'object':\n",
    "        data[column] = label_encoder.fit_transform(data[column])"
   ]
  },
  {
   "cell_type": "code",
   "execution_count": null,
   "metadata": {},
   "outputs": [],
   "source": []
  },
  {
   "cell_type": "code",
   "execution_count": 18,
   "metadata": {
    "id": "aTx-CLvLDqOk"
   },
   "outputs": [],
   "source": [
    "from sklearn.preprocessing import StandardScaler\n",
    "from sklearn.model_selection import StratifiedKFold, train_test_split\n",
    "import time\n",
    "from sklearn.metrics import classification_report, confusion_matrix, accuracy_score, f1_score\n",
    "from sklearn.linear_model import LogisticRegression\n",
    "from sklearn.tree import DecisionTreeClassifier\n",
    "from sklearn.neighbors import KNeighborsClassifier\n",
    "from sklearn.ensemble import GradientBoostingClassifier,RandomForestClassifier, ExtraTreesClassifier\n",
    "from lightgbm import LGBMClassifier\n",
    "from catboost import CatBoostClassifier\n",
    "from xgboost import XGBClassifier\n",
    "from tabulate import tabulate\n",
    "from tqdm import tqdm"
   ]
  },
  {
   "cell_type": "code",
   "execution_count": 27,
   "metadata": {
    "id": "X9u2OEhJDuCy"
   },
   "outputs": [],
   "source": [
    "import time\n",
    "from sklearn.model_selection import StratifiedKFold\n",
    "from sklearn.metrics import f1_score, roc_auc_score\n",
    "import numpy as np\n",
    "from tqdm import tqdm\n",
    "import pandas as pd\n",
    "from tabulate import tabulate\n",
    "\n",
    "def BasedLine(df, method, models, n_splits=10):\n",
    "    start_time = time.time()  # Record the start time\n",
    "\n",
    "    df_check = df.copy()\n",
    "\n",
    "    y = df_check['readmitted']\n",
    "    X = df_check.drop(columns='readmitted')\n",
    "\n",
    "    X = X.fillna(0)\n",
    "\n",
    "    stratified_kfold = StratifiedKFold(n_splits=n_splits, random_state=2023, shuffle=True)\n",
    "\n",
    "    scoring = 'accuracy'\n",
    "    results, results_weigh = [], []\n",
    "    names = []\n",
    "    scores, scores_weigh = [], []\n",
    "    auc_scores = []  # Store AUC scores\n",
    "    data = []\n",
    "    for name, model in models:\n",
    "        model_scores = []\n",
    "        model_scores_weigh = []\n",
    "        model_auc_scores = []  # Store AUC scores for each fold\n",
    "\n",
    "        with tqdm(total=n_splits, desc=f\"Running {name}\") as pbar:\n",
    "            for train_idx, test_idx in stratified_kfold.split(X, y):\n",
    "                X_train, X_valid = X.iloc[train_idx], X.iloc[test_idx]\n",
    "                y_train, y_valid = y.iloc[train_idx], y.iloc[test_idx]\n",
    "\n",
    "                model.fit(X_train, y_train)\n",
    "                score_non = f1_score(model.predict(X_valid), y_valid)\n",
    "                score_weigh = f1_score(model.predict(X_valid), y_valid, average='weighted')\n",
    "                model_scores.append(score_non)\n",
    "                model_scores_weigh.append(score_weigh)\n",
    "\n",
    "                # Calculate AUC score\n",
    "                proba = model.predict_proba(X_valid)[:, 1]\n",
    "                auc = roc_auc_score(y_valid, proba)\n",
    "                model_auc_scores.append(auc)\n",
    "\n",
    "                pbar.update(1)\n",
    "\n",
    "        names.append(name)\n",
    "        scores_weigh.append(model_scores_weigh)\n",
    "        auc_scores.append(model_auc_scores)  # Store AUC scores for the model\n",
    "\n",
    "        # Calculate mean AUC score across folds\n",
    "        mean_auc = np.mean(model_auc_scores)\n",
    "\n",
    "        data.append([name, np.mean(model_scores), np.mean(model_scores_weigh), mean_auc])\n",
    "\n",
    "    headers = [\"Model\", \"F1 Score\", \"F1 Score Weighted\", \"AUC Score\"]\n",
    "    print(tabulate(data, headers=headers, tablefmt='orgtbl'))\n",
    "\n",
    "    end_time = time.time()  # Record the end time\n",
    "    execution_time = end_time - start_time\n",
    "    print(\"Execution time: {:.2f} seconds\".format(execution_time))\n",
    "\n",
    "    df_results = pd.DataFrame(data, columns=headers)\n",
    "    return df_results\n"
   ]
  },
  {
   "cell_type": "code",
   "execution_count": 28,
   "metadata": {
    "id": "6IGl0mWWDxOW"
   },
   "outputs": [],
   "source": [
    "def BasedModel():\n",
    "    basedModels = []\n",
    "    basedModels.append(('LR'   , LogisticRegression()))\n",
    "    basedModels.append(('RF'   , RandomForestClassifier()))\n",
    "    basedModels.append(('GBM'  , GradientBoostingClassifier()))\n",
    "    basedModels.append(('ET'   , ExtraTreesClassifier()))\n",
    "    basedModels.append(('XG'   , XGBClassifier()))\n",
    "    basedModels.append(('LG'   , LGBMClassifier()))\n",
    "    basedModels.append(('CAT'   , CatBoostClassifier(silent=True)))\n",
    "    return basedModels"
   ]
  },
  {
   "cell_type": "code",
   "execution_count": 29,
   "metadata": {
    "id": "SGGlZK7lEDw9"
   },
   "outputs": [],
   "source": [
    "models = BasedModel()"
   ]
  },
  {
   "cell_type": "code",
   "execution_count": 30,
   "metadata": {
    "id": "0fLHqtdkElpZ"
   },
   "outputs": [],
   "source": [
    "import warnings\n",
    "warnings.simplefilter(action='ignore', category=FutureWarning)"
   ]
  },
  {
   "cell_type": "code",
   "execution_count": 33,
   "metadata": {
    "colab": {
     "base_uri": "https://localhost:8080/"
    },
    "id": "jK_wjvvfEu5J",
    "outputId": "9923ca21-400b-469f-faae-aa046f8863e6"
   },
   "outputs": [
    {
     "name": "stderr",
     "output_type": "stream",
     "text": [
      "Running LR:   0%|                                                                               | 0/10 [00:00<?, ?it/s]C:\\Users\\user\\AppData\\Local\\Programs\\Python\\Python311\\Lib\\site-packages\\sklearn\\linear_model\\_logistic.py:460: ConvergenceWarning: lbfgs failed to converge (status=1):\n",
      "STOP: TOTAL NO. of ITERATIONS REACHED LIMIT.\n",
      "\n",
      "Increase the number of iterations (max_iter) or scale the data as shown in:\n",
      "    https://scikit-learn.org/stable/modules/preprocessing.html\n",
      "Please also refer to the documentation for alternative solver options:\n",
      "    https://scikit-learn.org/stable/modules/linear_model.html#logistic-regression\n",
      "  n_iter_i = _check_optimize_result(\n",
      "Running LR:  10%|███████                                                                | 1/10 [00:02<00:22,  2.56s/it]C:\\Users\\user\\AppData\\Local\\Programs\\Python\\Python311\\Lib\\site-packages\\sklearn\\linear_model\\_logistic.py:460: ConvergenceWarning: lbfgs failed to converge (status=1):\n",
      "STOP: TOTAL NO. of ITERATIONS REACHED LIMIT.\n",
      "\n",
      "Increase the number of iterations (max_iter) or scale the data as shown in:\n",
      "    https://scikit-learn.org/stable/modules/preprocessing.html\n",
      "Please also refer to the documentation for alternative solver options:\n",
      "    https://scikit-learn.org/stable/modules/linear_model.html#logistic-regression\n",
      "  n_iter_i = _check_optimize_result(\n",
      "Running LR:  20%|██████████████▏                                                        | 2/10 [00:05<00:20,  2.50s/it]C:\\Users\\user\\AppData\\Local\\Programs\\Python\\Python311\\Lib\\site-packages\\sklearn\\linear_model\\_logistic.py:460: ConvergenceWarning: lbfgs failed to converge (status=1):\n",
      "STOP: TOTAL NO. of ITERATIONS REACHED LIMIT.\n",
      "\n",
      "Increase the number of iterations (max_iter) or scale the data as shown in:\n",
      "    https://scikit-learn.org/stable/modules/preprocessing.html\n",
      "Please also refer to the documentation for alternative solver options:\n",
      "    https://scikit-learn.org/stable/modules/linear_model.html#logistic-regression\n",
      "  n_iter_i = _check_optimize_result(\n",
      "Running LR:  30%|█████████████████████▎                                                 | 3/10 [00:07<00:17,  2.44s/it]C:\\Users\\user\\AppData\\Local\\Programs\\Python\\Python311\\Lib\\site-packages\\sklearn\\linear_model\\_logistic.py:460: ConvergenceWarning: lbfgs failed to converge (status=1):\n",
      "STOP: TOTAL NO. of ITERATIONS REACHED LIMIT.\n",
      "\n",
      "Increase the number of iterations (max_iter) or scale the data as shown in:\n",
      "    https://scikit-learn.org/stable/modules/preprocessing.html\n",
      "Please also refer to the documentation for alternative solver options:\n",
      "    https://scikit-learn.org/stable/modules/linear_model.html#logistic-regression\n",
      "  n_iter_i = _check_optimize_result(\n",
      "Running LR:  40%|████████████████████████████▍                                          | 4/10 [00:09<00:14,  2.45s/it]C:\\Users\\user\\AppData\\Local\\Programs\\Python\\Python311\\Lib\\site-packages\\sklearn\\linear_model\\_logistic.py:460: ConvergenceWarning: lbfgs failed to converge (status=1):\n",
      "STOP: TOTAL NO. of ITERATIONS REACHED LIMIT.\n",
      "\n",
      "Increase the number of iterations (max_iter) or scale the data as shown in:\n",
      "    https://scikit-learn.org/stable/modules/preprocessing.html\n",
      "Please also refer to the documentation for alternative solver options:\n",
      "    https://scikit-learn.org/stable/modules/linear_model.html#logistic-regression\n",
      "  n_iter_i = _check_optimize_result(\n",
      "Running LR:  50%|███████████████████████████████████▌                                   | 5/10 [00:12<00:12,  2.43s/it]C:\\Users\\user\\AppData\\Local\\Programs\\Python\\Python311\\Lib\\site-packages\\sklearn\\linear_model\\_logistic.py:460: ConvergenceWarning: lbfgs failed to converge (status=1):\n",
      "STOP: TOTAL NO. of ITERATIONS REACHED LIMIT.\n",
      "\n",
      "Increase the number of iterations (max_iter) or scale the data as shown in:\n",
      "    https://scikit-learn.org/stable/modules/preprocessing.html\n",
      "Please also refer to the documentation for alternative solver options:\n",
      "    https://scikit-learn.org/stable/modules/linear_model.html#logistic-regression\n",
      "  n_iter_i = _check_optimize_result(\n",
      "Running LR:  60%|██████████████████████████████████████████▌                            | 6/10 [00:15<00:10,  2.73s/it]C:\\Users\\user\\AppData\\Local\\Programs\\Python\\Python311\\Lib\\site-packages\\sklearn\\linear_model\\_logistic.py:460: ConvergenceWarning: lbfgs failed to converge (status=1):\n",
      "STOP: TOTAL NO. of ITERATIONS REACHED LIMIT.\n",
      "\n",
      "Increase the number of iterations (max_iter) or scale the data as shown in:\n",
      "    https://scikit-learn.org/stable/modules/preprocessing.html\n",
      "Please also refer to the documentation for alternative solver options:\n",
      "    https://scikit-learn.org/stable/modules/linear_model.html#logistic-regression\n",
      "  n_iter_i = _check_optimize_result(\n",
      "Running LR:  70%|█████████████████████████████████████████████████▋                     | 7/10 [00:17<00:07,  2.59s/it]C:\\Users\\user\\AppData\\Local\\Programs\\Python\\Python311\\Lib\\site-packages\\sklearn\\linear_model\\_logistic.py:460: ConvergenceWarning: lbfgs failed to converge (status=1):\n",
      "STOP: TOTAL NO. of ITERATIONS REACHED LIMIT.\n",
      "\n",
      "Increase the number of iterations (max_iter) or scale the data as shown in:\n",
      "    https://scikit-learn.org/stable/modules/preprocessing.html\n",
      "Please also refer to the documentation for alternative solver options:\n",
      "    https://scikit-learn.org/stable/modules/linear_model.html#logistic-regression\n",
      "  n_iter_i = _check_optimize_result(\n",
      "Running LR:  80%|████████████████████████████████████████████████████████▊              | 8/10 [00:20<00:05,  2.54s/it]C:\\Users\\user\\AppData\\Local\\Programs\\Python\\Python311\\Lib\\site-packages\\sklearn\\linear_model\\_logistic.py:460: ConvergenceWarning: lbfgs failed to converge (status=1):\n",
      "STOP: TOTAL NO. of ITERATIONS REACHED LIMIT.\n",
      "\n",
      "Increase the number of iterations (max_iter) or scale the data as shown in:\n",
      "    https://scikit-learn.org/stable/modules/preprocessing.html\n",
      "Please also refer to the documentation for alternative solver options:\n",
      "    https://scikit-learn.org/stable/modules/linear_model.html#logistic-regression\n",
      "  n_iter_i = _check_optimize_result(\n",
      "Running LR:  90%|███████████████████████████████████████████████████████████████▉       | 9/10 [00:22<00:02,  2.56s/it]C:\\Users\\user\\AppData\\Local\\Programs\\Python\\Python311\\Lib\\site-packages\\sklearn\\linear_model\\_logistic.py:460: ConvergenceWarning: lbfgs failed to converge (status=1):\n",
      "STOP: TOTAL NO. of ITERATIONS REACHED LIMIT.\n",
      "\n",
      "Increase the number of iterations (max_iter) or scale the data as shown in:\n",
      "    https://scikit-learn.org/stable/modules/preprocessing.html\n",
      "Please also refer to the documentation for alternative solver options:\n",
      "    https://scikit-learn.org/stable/modules/linear_model.html#logistic-regression\n",
      "  n_iter_i = _check_optimize_result(\n",
      "Running LR: 100%|██████████████████████████████████████████████████████████████████████| 10/10 [00:25<00:00,  2.56s/it]\n",
      "Running RF: 100%|██████████████████████████████████████████████████████████████████████| 10/10 [13:13<00:00, 79.38s/it]\n",
      "Running GBM: 100%|████████████████████████████████████████████████████████████████████| 10/10 [23:17<00:00, 139.78s/it]\n",
      "Running ET: 100%|██████████████████████████████████████████████████████████████████████| 10/10 [05:43<00:00, 34.30s/it]\n",
      "Running XG: 100%|██████████████████████████████████████████████████████████████████████| 10/10 [00:21<00:00,  2.20s/it]\n",
      "Running LG:   0%|                                                                               | 0/10 [00:00<?, ?it/s]"
     ]
    },
    {
     "name": "stdout",
     "output_type": "stream",
     "text": [
      "[LightGBM] [Info] Number of positive: 10221, number of negative: 81368\n",
      "[LightGBM] [Info] Auto-choosing row-wise multi-threading, the overhead of testing was 0.020441 seconds.\n",
      "You can set `force_row_wise=true` to remove the overhead.\n",
      "And if memory is not enough, you can set `force_col_wise=true`.\n",
      "[LightGBM] [Info] Total Bins 1189\n",
      "[LightGBM] [Info] Number of data points in the train set: 91589, number of used features: 38\n",
      "[LightGBM] [Info] [binary:BoostFromScore]: pavg=0.111596 -> initscore=-2.074538\n",
      "[LightGBM] [Info] Start training from score -2.074538\n"
     ]
    },
    {
     "name": "stderr",
     "output_type": "stream",
     "text": [
      "Running LG:  10%|███████                                                                | 1/10 [00:01<00:14,  1.63s/it]"
     ]
    },
    {
     "name": "stdout",
     "output_type": "stream",
     "text": [
      "[LightGBM] [Info] Number of positive: 10221, number of negative: 81368\n",
      "[LightGBM] [Info] Auto-choosing row-wise multi-threading, the overhead of testing was 0.021219 seconds.\n",
      "You can set `force_row_wise=true` to remove the overhead.\n",
      "And if memory is not enough, you can set `force_col_wise=true`.\n",
      "[LightGBM] [Info] Total Bins 1190\n",
      "[LightGBM] [Info] Number of data points in the train set: 91589, number of used features: 38\n",
      "[LightGBM] [Info] [binary:BoostFromScore]: pavg=0.111596 -> initscore=-2.074538\n",
      "[LightGBM] [Info] Start training from score -2.074538\n"
     ]
    },
    {
     "name": "stderr",
     "output_type": "stream",
     "text": [
      "Running LG:  20%|██████████████▏                                                        | 2/10 [00:03<00:13,  1.63s/it]"
     ]
    },
    {
     "name": "stdout",
     "output_type": "stream",
     "text": [
      "[LightGBM] [Info] Number of positive: 10221, number of negative: 81368\n",
      "[LightGBM] [Info] Auto-choosing row-wise multi-threading, the overhead of testing was 0.019127 seconds.\n",
      "You can set `force_row_wise=true` to remove the overhead.\n",
      "And if memory is not enough, you can set `force_col_wise=true`.\n",
      "[LightGBM] [Info] Total Bins 1189\n",
      "[LightGBM] [Info] Number of data points in the train set: 91589, number of used features: 38\n",
      "[LightGBM] [Info] [binary:BoostFromScore]: pavg=0.111596 -> initscore=-2.074538\n",
      "[LightGBM] [Info] Start training from score -2.074538\n"
     ]
    },
    {
     "name": "stderr",
     "output_type": "stream",
     "text": [
      "Running LG:  30%|█████████████████████▎                                                 | 3/10 [00:04<00:10,  1.56s/it]"
     ]
    },
    {
     "name": "stdout",
     "output_type": "stream",
     "text": [
      "[LightGBM] [Info] Number of positive: 10221, number of negative: 81368\n",
      "[LightGBM] [Info] Auto-choosing row-wise multi-threading, the overhead of testing was 0.019399 seconds.\n",
      "You can set `force_row_wise=true` to remove the overhead.\n",
      "And if memory is not enough, you can set `force_col_wise=true`.\n",
      "[LightGBM] [Info] Total Bins 1191\n",
      "[LightGBM] [Info] Number of data points in the train set: 91589, number of used features: 38\n",
      "[LightGBM] [Info] [binary:BoostFromScore]: pavg=0.111596 -> initscore=-2.074538\n",
      "[LightGBM] [Info] Start training from score -2.074538\n"
     ]
    },
    {
     "name": "stderr",
     "output_type": "stream",
     "text": [
      "Running LG:  40%|████████████████████████████▍                                          | 4/10 [00:06<00:09,  1.52s/it]"
     ]
    },
    {
     "name": "stdout",
     "output_type": "stream",
     "text": [
      "[LightGBM] [Info] Number of positive: 10221, number of negative: 81368\n",
      "[LightGBM] [Info] Auto-choosing row-wise multi-threading, the overhead of testing was 0.018978 seconds.\n",
      "You can set `force_row_wise=true` to remove the overhead.\n",
      "And if memory is not enough, you can set `force_col_wise=true`.\n",
      "[LightGBM] [Info] Total Bins 1187\n",
      "[LightGBM] [Info] Number of data points in the train set: 91589, number of used features: 38\n",
      "[LightGBM] [Info] [binary:BoostFromScore]: pavg=0.111596 -> initscore=-2.074538\n",
      "[LightGBM] [Info] Start training from score -2.074538\n"
     ]
    },
    {
     "name": "stderr",
     "output_type": "stream",
     "text": [
      "Running LG:  50%|███████████████████████████████████▌                                   | 5/10 [00:07<00:07,  1.52s/it]"
     ]
    },
    {
     "name": "stdout",
     "output_type": "stream",
     "text": [
      "[LightGBM] [Info] Number of positive: 10221, number of negative: 81368\n",
      "[LightGBM] [Info] Auto-choosing row-wise multi-threading, the overhead of testing was 0.018713 seconds.\n",
      "You can set `force_row_wise=true` to remove the overhead.\n",
      "And if memory is not enough, you can set `force_col_wise=true`.\n",
      "[LightGBM] [Info] Total Bins 1183\n",
      "[LightGBM] [Info] Number of data points in the train set: 91589, number of used features: 37\n",
      "[LightGBM] [Info] [binary:BoostFromScore]: pavg=0.111596 -> initscore=-2.074538\n",
      "[LightGBM] [Info] Start training from score -2.074538\n"
     ]
    },
    {
     "name": "stderr",
     "output_type": "stream",
     "text": [
      "Running LG:  60%|██████████████████████████████████████████▌                            | 6/10 [00:09<00:06,  1.70s/it]"
     ]
    },
    {
     "name": "stdout",
     "output_type": "stream",
     "text": [
      "[LightGBM] [Info] Number of positive: 10222, number of negative: 81368\n",
      "[LightGBM] [Info] Auto-choosing row-wise multi-threading, the overhead of testing was 0.018168 seconds.\n",
      "You can set `force_row_wise=true` to remove the overhead.\n",
      "And if memory is not enough, you can set `force_col_wise=true`.\n",
      "[LightGBM] [Info] Total Bins 1182\n",
      "[LightGBM] [Info] Number of data points in the train set: 91590, number of used features: 38\n",
      "[LightGBM] [Info] [binary:BoostFromScore]: pavg=0.111606 -> initscore=-2.074440\n",
      "[LightGBM] [Info] Start training from score -2.074440\n"
     ]
    },
    {
     "name": "stderr",
     "output_type": "stream",
     "text": [
      "Running LG:  70%|█████████████████████████████████████████████████▋                     | 7/10 [00:11<00:04,  1.63s/it]"
     ]
    },
    {
     "name": "stdout",
     "output_type": "stream",
     "text": [
      "[LightGBM] [Info] Number of positive: 10222, number of negative: 81368\n",
      "[LightGBM] [Info] Auto-choosing row-wise multi-threading, the overhead of testing was 0.019973 seconds.\n",
      "You can set `force_row_wise=true` to remove the overhead.\n",
      "And if memory is not enough, you can set `force_col_wise=true`.\n",
      "[LightGBM] [Info] Total Bins 1182\n",
      "[LightGBM] [Info] Number of data points in the train set: 91590, number of used features: 38\n",
      "[LightGBM] [Info] [binary:BoostFromScore]: pavg=0.111606 -> initscore=-2.074440\n",
      "[LightGBM] [Info] Start training from score -2.074440\n"
     ]
    },
    {
     "name": "stderr",
     "output_type": "stream",
     "text": [
      "Running LG:  80%|████████████████████████████████████████████████████████▊              | 8/10 [00:12<00:03,  1.60s/it]"
     ]
    },
    {
     "name": "stdout",
     "output_type": "stream",
     "text": [
      "[LightGBM] [Info] Number of positive: 10222, number of negative: 81368\n",
      "[LightGBM] [Info] Auto-choosing row-wise multi-threading, the overhead of testing was 0.019802 seconds.\n",
      "You can set `force_row_wise=true` to remove the overhead.\n",
      "And if memory is not enough, you can set `force_col_wise=true`.\n",
      "[LightGBM] [Info] Total Bins 1183\n",
      "[LightGBM] [Info] Number of data points in the train set: 91590, number of used features: 38\n",
      "[LightGBM] [Info] [binary:BoostFromScore]: pavg=0.111606 -> initscore=-2.074440\n",
      "[LightGBM] [Info] Start training from score -2.074440\n"
     ]
    },
    {
     "name": "stderr",
     "output_type": "stream",
     "text": [
      "Running LG:  90%|███████████████████████████████████████████████████████████████▉       | 9/10 [00:14<00:01,  1.57s/it]"
     ]
    },
    {
     "name": "stdout",
     "output_type": "stream",
     "text": [
      "[LightGBM] [Info] Number of positive: 10221, number of negative: 81369\n",
      "[LightGBM] [Info] Auto-choosing row-wise multi-threading, the overhead of testing was 0.019275 seconds.\n",
      "You can set `force_row_wise=true` to remove the overhead.\n",
      "And if memory is not enough, you can set `force_col_wise=true`.\n",
      "[LightGBM] [Info] Total Bins 1193\n",
      "[LightGBM] [Info] Number of data points in the train set: 91590, number of used features: 38\n",
      "[LightGBM] [Info] [binary:BoostFromScore]: pavg=0.111595 -> initscore=-2.074550\n",
      "[LightGBM] [Info] Start training from score -2.074550\n"
     ]
    },
    {
     "name": "stderr",
     "output_type": "stream",
     "text": [
      "Running LG: 100%|██████████████████████████████████████████████████████████████████████| 10/10 [00:15<00:00,  1.58s/it]\n",
      "Running CAT: 100%|█████████████████████████████████████████████████████████████████████| 10/10 [07:42<00:00, 46.21s/it]"
     ]
    },
    {
     "name": "stdout",
     "output_type": "stream",
     "text": [
      "| Model   |   F1 Score |   F1 Score Weighted |   AUC Score |\n",
      "|---------+------------+---------------------+-------------|\n",
      "| LR      |  0.0284885 |            0.937594 |    0.597075 |\n",
      "| RF      |  0.0181882 |            0.939388 |    0.644467 |\n",
      "| GBM     |  0.0237372 |            0.93858  |    0.674505 |\n",
      "| ET      |  0.0185109 |            0.939117 |    0.637558 |\n",
      "| XG      |  0.0617671 |            0.933302 |    0.667959 |\n",
      "| LG      |  0.0267755 |            0.938325 |    0.680488 |\n",
      "| CAT     |  0.0449688 |            0.936326 |    0.680205 |\n",
      "Execution time: 3060.34 seconds\n"
     ]
    },
    {
     "name": "stderr",
     "output_type": "stream",
     "text": [
      "\n"
     ]
    }
   ],
   "source": [
    "#result\n",
    "result = BasedLine(df = data, method = False , models = models, n_splits=10)"
   ]
  },
  {
   "cell_type": "code",
   "execution_count": 34,
   "metadata": {
    "colab": {
     "base_uri": "https://localhost:8080/",
     "height": 269
    },
    "id": "Lm1ZPKdBGuwb",
    "outputId": "10a46af5-fc64-40ba-ab0f-a4d33108e5bd"
   },
   "outputs": [
    {
     "data": {
      "text/html": [
       "<div>\n",
       "<style scoped>\n",
       "    .dataframe tbody tr th:only-of-type {\n",
       "        vertical-align: middle;\n",
       "    }\n",
       "\n",
       "    .dataframe tbody tr th {\n",
       "        vertical-align: top;\n",
       "    }\n",
       "\n",
       "    .dataframe thead th {\n",
       "        text-align: right;\n",
       "    }\n",
       "</style>\n",
       "<table border=\"1\" class=\"dataframe\">\n",
       "  <thead>\n",
       "    <tr style=\"text-align: right;\">\n",
       "      <th></th>\n",
       "      <th>Model</th>\n",
       "      <th>F1 Score</th>\n",
       "      <th>F1 Score Weighted</th>\n",
       "      <th>AUC Score</th>\n",
       "    </tr>\n",
       "  </thead>\n",
       "  <tbody>\n",
       "    <tr>\n",
       "      <th>0</th>\n",
       "      <td>LR</td>\n",
       "      <td>0.028488</td>\n",
       "      <td>0.937594</td>\n",
       "      <td>0.597075</td>\n",
       "    </tr>\n",
       "    <tr>\n",
       "      <th>1</th>\n",
       "      <td>RF</td>\n",
       "      <td>0.018188</td>\n",
       "      <td>0.939388</td>\n",
       "      <td>0.644467</td>\n",
       "    </tr>\n",
       "    <tr>\n",
       "      <th>2</th>\n",
       "      <td>GBM</td>\n",
       "      <td>0.023737</td>\n",
       "      <td>0.938580</td>\n",
       "      <td>0.674505</td>\n",
       "    </tr>\n",
       "    <tr>\n",
       "      <th>3</th>\n",
       "      <td>ET</td>\n",
       "      <td>0.018511</td>\n",
       "      <td>0.939117</td>\n",
       "      <td>0.637558</td>\n",
       "    </tr>\n",
       "    <tr>\n",
       "      <th>4</th>\n",
       "      <td>XG</td>\n",
       "      <td>0.061767</td>\n",
       "      <td>0.933302</td>\n",
       "      <td>0.667959</td>\n",
       "    </tr>\n",
       "    <tr>\n",
       "      <th>5</th>\n",
       "      <td>LG</td>\n",
       "      <td>0.026776</td>\n",
       "      <td>0.938325</td>\n",
       "      <td>0.680488</td>\n",
       "    </tr>\n",
       "    <tr>\n",
       "      <th>6</th>\n",
       "      <td>CAT</td>\n",
       "      <td>0.044969</td>\n",
       "      <td>0.936326</td>\n",
       "      <td>0.680205</td>\n",
       "    </tr>\n",
       "  </tbody>\n",
       "</table>\n",
       "</div>"
      ],
      "text/plain": [
       "  Model  F1 Score  F1 Score Weighted  AUC Score\n",
       "0    LR  0.028488           0.937594   0.597075\n",
       "1    RF  0.018188           0.939388   0.644467\n",
       "2   GBM  0.023737           0.938580   0.674505\n",
       "3    ET  0.018511           0.939117   0.637558\n",
       "4    XG  0.061767           0.933302   0.667959\n",
       "5    LG  0.026776           0.938325   0.680488\n",
       "6   CAT  0.044969           0.936326   0.680205"
      ]
     },
     "execution_count": 34,
     "metadata": {},
     "output_type": "execute_result"
    }
   ],
   "source": [
    "result"
   ]
  },
  {
   "cell_type": "code",
   "execution_count": 54,
   "metadata": {},
   "outputs": [],
   "source": [
    "import matplotlib.pyplot as plt\n",
    "import seaborn as sns  # Import seaborn for color palettes\n",
    "\n",
    "def plot_bar_and_histogram(dataframe):\n",
    "    plt.figure(figsize=(15, 5))\n",
    "\n",
    "    # Define a color palette with the number of unique models in the DataFrame\n",
    "    num_models = len(dataframe['Model'])\n",
    "    colors = sns.color_palette('husl', n_colors=num_models)\n",
    "\n",
    "    # Bar plot for F1 Score\n",
    "    ax1 = plt.subplot(1, 3, 1)\n",
    "    bars = plt.bar(dataframe['Model'], dataframe['F1 Score'], color=colors)\n",
    "    plt.xlabel('Model')\n",
    "    plt.ylabel('F1 Score')\n",
    "    plt.title('Plot of F1 Score')\n",
    "\n",
    "    # Add text annotations to the bars\n",
    "    for bar in bars:\n",
    "        yval = bar.get_height()\n",
    "        plt.text(bar.get_x() + bar.get_width()/2, yval, round(yval, 3), ha='center', va='bottom')\n",
    "\n",
    "    # Bar plot for F1 Score Weighted\n",
    "    plt.subplot(1, 3, 2)\n",
    "    barss = plt.bar(dataframe['Model'], dataframe['F1 Score Weighted'], color=colors)\n",
    "    plt.xlabel('Model')\n",
    "    plt.ylabel('F1 Score Weighted')\n",
    "    plt.title('Plot of F1 Score Weighted')\n",
    "\n",
    "    # Add text annotations to the bars\n",
    "    for bar in barss:\n",
    "        yval = bar.get_height()\n",
    "        plt.text(bar.get_x() + bar.get_width()/2, yval, round(yval, 3), ha='center', va='bottom')\n",
    "        \n",
    "    # Bar plot for AUC Score\n",
    "    plt.subplot(1, 3, 3)\n",
    "    barss = plt.bar(dataframe['Model'], dataframe['AUC Score'], color=colors)\n",
    "    plt.xlabel('Model')\n",
    "    plt.ylabel('AUC Score')\n",
    "    plt.title('Plot of AUC Score')\n",
    "\n",
    "    # Add text annotations to the bars\n",
    "    for bar in barss:\n",
    "        yval = bar.get_height()\n",
    "        plt.text(bar.get_x() + bar.get_width()/2, yval, round(yval, 3), ha='center', va='bottom')\n",
    "\n",
    "    plt.tight_layout()\n",
    "    plt.show()\n"
   ]
  },
  {
   "cell_type": "code",
   "execution_count": 55,
   "metadata": {},
   "outputs": [
    {
     "data": {
      "image/png": "[encoded data removed]",
      "text/plain": [
       "<Figure size 1500x500 with 3 Axes>"
      ]
     },
     "metadata": {},
     "output_type": "display_data"
    }
   ],
   "source": [
    "plot_bar_and_histogram(dataframe = result)"
   ]
  },
  {
   "cell_type": "code",
   "execution_count": null,
   "metadata": {},
   "outputs": [],
   "source": []
  }
 ],
 "metadata": {
  "colab": {
   "provenance": []
  },
  "kernelspec": {
   "display_name": "Python 3 (ipykernel)",
   "language": "python",
   "name": "python3"
  },
  "language_info": {
   "codemirror_mode": {
    "name": "ipython",
    "version": 3
   },
   "file_extension": ".py",
   "mimetype": "text/x-python",
   "name": "python",
   "nbconvert_exporter": "python",
   "pygments_lexer": "ipython3",
   "version": "3.11.4"
  }
 },
 "nbformat": 4,
 "nbformat_minor": 4
}
