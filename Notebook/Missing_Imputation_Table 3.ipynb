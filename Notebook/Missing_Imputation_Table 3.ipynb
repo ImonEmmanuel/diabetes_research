{
 "cells": [
  {
   "cell_type": "code",
   "execution_count": null,
   "id": "7556e92b-26c6-496d-b22f-af411794fe07",
   "metadata": {
    "id": "7556e92b-26c6-496d-b22f-af411794fe07"
   },
   "outputs": [],
   "source": []
  },
  {
   "cell_type": "code",
   "execution_count": 1,
   "id": "d252264a-b7a6-4f3a-9b4b-c0856139ab7f",
   "metadata": {
    "colab": {
     "base_uri": "https://localhost:8080/"
    },
    "id": "d252264a-b7a6-4f3a-9b4b-c0856139ab7f",
    "outputId": "6f2be32b-740f-43ec-bf93-50621ad558f4"
   },
   "outputs": [
    {
     "name": "stdout",
     "output_type": "stream",
     "text": [
      "Collecting catboost\n",
      "  Downloading catboost-1.2.2-cp310-cp310-manylinux2014_x86_64.whl (98.7 MB)\n",
      "\u001b[2K     \u001b[90m━━━━━━━━━━━━━━━━━━━━━━━━━━━━━━━━━━━━━━━━\u001b[0m \u001b[32m98.7/98.7 MB\u001b[0m \u001b[31m7.9 MB/s\u001b[0m eta \u001b[36m0:00:00\u001b[0m\n",
      "\u001b[?25hRequirement already satisfied: graphviz in /usr/local/lib/python3.10/dist-packages (from catboost) (0.20.1)\n",
      "Requirement already satisfied: matplotlib in /usr/local/lib/python3.10/dist-packages (from catboost) (3.7.1)\n",
      "Requirement already satisfied: numpy>=1.16.0 in /usr/local/lib/python3.10/dist-packages (from catboost) (1.23.5)\n",
      "Requirement already satisfied: pandas>=0.24 in /usr/local/lib/python3.10/dist-packages (from catboost) (1.5.3)\n",
      "Requirement already satisfied: scipy in /usr/local/lib/python3.10/dist-packages (from catboost) (1.11.3)\n",
      "Requirement already satisfied: plotly in /usr/local/lib/python3.10/dist-packages (from catboost) (5.15.0)\n",
      "Requirement already satisfied: six in /usr/local/lib/python3.10/dist-packages (from catboost) (1.16.0)\n",
      "Requirement already satisfied: python-dateutil>=2.8.1 in /usr/local/lib/python3.10/dist-packages (from pandas>=0.24->catboost) (2.8.2)\n",
      "Requirement already satisfied: pytz>=2020.1 in /usr/local/lib/python3.10/dist-packages (from pandas>=0.24->catboost) (2023.3.post1)\n",
      "Requirement already satisfied: contourpy>=1.0.1 in /usr/local/lib/python3.10/dist-packages (from matplotlib->catboost) (1.2.0)\n",
      "Requirement already satisfied: cycler>=0.10 in /usr/local/lib/python3.10/dist-packages (from matplotlib->catboost) (0.12.1)\n",
      "Requirement already satisfied: fonttools>=4.22.0 in /usr/local/lib/python3.10/dist-packages (from matplotlib->catboost) (4.44.3)\n",
      "Requirement already satisfied: kiwisolver>=1.0.1 in /usr/local/lib/python3.10/dist-packages (from matplotlib->catboost) (1.4.5)\n",
      "Requirement already satisfied: packaging>=20.0 in /usr/local/lib/python3.10/dist-packages (from matplotlib->catboost) (23.2)\n",
      "Requirement already satisfied: pillow>=6.2.0 in /usr/local/lib/python3.10/dist-packages (from matplotlib->catboost) (9.4.0)\n",
      "Requirement already satisfied: pyparsing>=2.3.1 in /usr/local/lib/python3.10/dist-packages (from matplotlib->catboost) (3.1.1)\n",
      "Requirement already satisfied: tenacity>=6.2.0 in /usr/local/lib/python3.10/dist-packages (from plotly->catboost) (8.2.3)\n",
      "Installing collected packages: catboost\n",
      "Successfully installed catboost-1.2.2\n"
     ]
    }
   ],
   "source": [
    "!pip install catboost"
   ]
  },
  {
   "cell_type": "code",
   "execution_count": 1,
   "id": "9b685569-39c9-4c51-b53e-cce283f2453a",
   "metadata": {
    "id": "9b685569-39c9-4c51-b53e-cce283f2453a"
   },
   "outputs": [],
   "source": [
    "import pandas as pd\n",
    "import numpy as np"
   ]
  },
  {
   "cell_type": "code",
   "execution_count": 2,
   "id": "70193ac8-78dd-43db-9aae-84ffe798383c",
   "metadata": {
    "id": "70193ac8-78dd-43db-9aae-84ffe798383c"
   },
   "outputs": [],
   "source": [
    "data = pd.read_csv(\"diabetes.csv\")"
   ]
  },
  {
   "cell_type": "code",
   "execution_count": null,
   "id": "3d2d1d08-c4d5-4601-a8a3-8c9304a487ae",
   "metadata": {
    "id": "3d2d1d08-c4d5-4601-a8a3-8c9304a487ae"
   },
   "outputs": [],
   "source": []
  },
  {
   "cell_type": "code",
   "execution_count": 3,
   "id": "9333d829-66c5-451b-8697-ce3cc6281479",
   "metadata": {
    "colab": {
     "base_uri": "https://localhost:8080/",
     "height": 424
    },
    "id": "9333d829-66c5-451b-8697-ce3cc6281479",
    "outputId": "2424731a-f4d2-4f8a-95b1-ff1727495b1d"
   },
   "outputs": [
    {
     "data": {
      "text/html": [
       "<div>\n",
       "<style scoped>\n",
       "    .dataframe tbody tr th:only-of-type {\n",
       "        vertical-align: middle;\n",
       "    }\n",
       "\n",
       "    .dataframe tbody tr th {\n",
       "        vertical-align: top;\n",
       "    }\n",
       "\n",
       "    .dataframe thead th {\n",
       "        text-align: right;\n",
       "    }\n",
       "</style>\n",
       "<table border=\"1\" class=\"dataframe\">\n",
       "  <thead>\n",
       "    <tr style=\"text-align: right;\">\n",
       "      <th></th>\n",
       "      <th>id</th>\n",
       "      <th>encounter_id</th>\n",
       "      <th>patient_nbr</th>\n",
       "      <th>payer_code</th>\n",
       "      <th>admission_type_id</th>\n",
       "      <th>discharge_disposition_id</th>\n",
       "      <th>admission_source_id</th>\n",
       "    </tr>\n",
       "  </thead>\n",
       "  <tbody>\n",
       "    <tr>\n",
       "      <th>0</th>\n",
       "      <td>1</td>\n",
       "      <td>2278392</td>\n",
       "      <td>8222157</td>\n",
       "      <td>?</td>\n",
       "      <td>6</td>\n",
       "      <td>25</td>\n",
       "      <td>1</td>\n",
       "    </tr>\n",
       "    <tr>\n",
       "      <th>1</th>\n",
       "      <td>2</td>\n",
       "      <td>149190</td>\n",
       "      <td>55629189</td>\n",
       "      <td>?</td>\n",
       "      <td>1</td>\n",
       "      <td>1</td>\n",
       "      <td>7</td>\n",
       "    </tr>\n",
       "    <tr>\n",
       "      <th>2</th>\n",
       "      <td>3</td>\n",
       "      <td>64410</td>\n",
       "      <td>86047875</td>\n",
       "      <td>?</td>\n",
       "      <td>1</td>\n",
       "      <td>1</td>\n",
       "      <td>7</td>\n",
       "    </tr>\n",
       "    <tr>\n",
       "      <th>3</th>\n",
       "      <td>4</td>\n",
       "      <td>500364</td>\n",
       "      <td>82442376</td>\n",
       "      <td>?</td>\n",
       "      <td>1</td>\n",
       "      <td>1</td>\n",
       "      <td>7</td>\n",
       "    </tr>\n",
       "    <tr>\n",
       "      <th>4</th>\n",
       "      <td>5</td>\n",
       "      <td>16680</td>\n",
       "      <td>42519267</td>\n",
       "      <td>?</td>\n",
       "      <td>1</td>\n",
       "      <td>1</td>\n",
       "      <td>7</td>\n",
       "    </tr>\n",
       "    <tr>\n",
       "      <th>...</th>\n",
       "      <td>...</td>\n",
       "      <td>...</td>\n",
       "      <td>...</td>\n",
       "      <td>...</td>\n",
       "      <td>...</td>\n",
       "      <td>...</td>\n",
       "      <td>...</td>\n",
       "    </tr>\n",
       "    <tr>\n",
       "      <th>101761</th>\n",
       "      <td>101762</td>\n",
       "      <td>443847548</td>\n",
       "      <td>100162476</td>\n",
       "      <td>MC</td>\n",
       "      <td>1</td>\n",
       "      <td>3</td>\n",
       "      <td>7</td>\n",
       "    </tr>\n",
       "    <tr>\n",
       "      <th>101762</th>\n",
       "      <td>101763</td>\n",
       "      <td>443847782</td>\n",
       "      <td>74694222</td>\n",
       "      <td>MC</td>\n",
       "      <td>1</td>\n",
       "      <td>4</td>\n",
       "      <td>5</td>\n",
       "    </tr>\n",
       "    <tr>\n",
       "      <th>101763</th>\n",
       "      <td>101764</td>\n",
       "      <td>443854148</td>\n",
       "      <td>41088789</td>\n",
       "      <td>MC</td>\n",
       "      <td>1</td>\n",
       "      <td>1</td>\n",
       "      <td>7</td>\n",
       "    </tr>\n",
       "    <tr>\n",
       "      <th>101764</th>\n",
       "      <td>101765</td>\n",
       "      <td>443857166</td>\n",
       "      <td>31693671</td>\n",
       "      <td>MC</td>\n",
       "      <td>2</td>\n",
       "      <td>3</td>\n",
       "      <td>7</td>\n",
       "    </tr>\n",
       "    <tr>\n",
       "      <th>101765</th>\n",
       "      <td>101766</td>\n",
       "      <td>443867222</td>\n",
       "      <td>175429310</td>\n",
       "      <td>?</td>\n",
       "      <td>1</td>\n",
       "      <td>1</td>\n",
       "      <td>7</td>\n",
       "    </tr>\n",
       "  </tbody>\n",
       "</table>\n",
       "<p>101766 rows × 7 columns</p>\n",
       "</div>"
      ],
      "text/plain": [
       "            id  encounter_id  patient_nbr payer_code  admission_type_id  \\\n",
       "0            1       2278392      8222157          ?                  6   \n",
       "1            2        149190     55629189          ?                  1   \n",
       "2            3         64410     86047875          ?                  1   \n",
       "3            4        500364     82442376          ?                  1   \n",
       "4            5         16680     42519267          ?                  1   \n",
       "...        ...           ...          ...        ...                ...   \n",
       "101761  101762     443847548    100162476         MC                  1   \n",
       "101762  101763     443847782     74694222         MC                  1   \n",
       "101763  101764     443854148     41088789         MC                  1   \n",
       "101764  101765     443857166     31693671         MC                  2   \n",
       "101765  101766     443867222    175429310          ?                  1   \n",
       "\n",
       "        discharge_disposition_id  admission_source_id  \n",
       "0                             25                    1  \n",
       "1                              1                    7  \n",
       "2                              1                    7  \n",
       "3                              1                    7  \n",
       "4                              1                    7  \n",
       "...                          ...                  ...  \n",
       "101761                         3                    7  \n",
       "101762                         4                    5  \n",
       "101763                         1                    7  \n",
       "101764                         3                    7  \n",
       "101765                         1                    7  \n",
       "\n",
       "[101766 rows x 7 columns]"
      ]
     },
     "execution_count": 3,
     "metadata": {},
     "output_type": "execute_result"
    }
   ],
   "source": [
    "##Redundant Features\n",
    "cols = ['id', 'encounter_id', 'patient_nbr','payer_code', 'admission_type_id','discharge_disposition_id','admission_source_id']\n",
    "data[cols]"
   ]
  },
  {
   "cell_type": "code",
   "execution_count": 4,
   "id": "27326dbe-a10b-4c14-9d0a-6f3752c1af3c",
   "metadata": {
    "colab": {
     "base_uri": "https://localhost:8080/",
     "height": 242
    },
    "id": "27326dbe-a10b-4c14-9d0a-6f3752c1af3c",
    "outputId": "a7390370-21bb-4ff9-8be3-cae46f2fca73"
   },
   "outputs": [
    {
     "data": {
      "text/html": [
       "<div>\n",
       "<style scoped>\n",
       "    .dataframe tbody tr th:only-of-type {\n",
       "        vertical-align: middle;\n",
       "    }\n",
       "\n",
       "    .dataframe tbody tr th {\n",
       "        vertical-align: top;\n",
       "    }\n",
       "\n",
       "    .dataframe thead th {\n",
       "        text-align: right;\n",
       "    }\n",
       "</style>\n",
       "<table border=\"1\" class=\"dataframe\">\n",
       "  <thead>\n",
       "    <tr style=\"text-align: right;\">\n",
       "      <th></th>\n",
       "      <th>race</th>\n",
       "      <th>gender</th>\n",
       "      <th>age</th>\n",
       "      <th>weight</th>\n",
       "      <th>payer_code</th>\n",
       "      <th>medical_specialty</th>\n",
       "      <th>diag_1</th>\n",
       "      <th>diag_2</th>\n",
       "      <th>diag_3</th>\n",
       "      <th>max_glu_serum</th>\n",
       "      <th>...</th>\n",
       "      <th>citoglipton</th>\n",
       "      <th>insulin</th>\n",
       "      <th>glyburide.metformin</th>\n",
       "      <th>glipizide.metformin</th>\n",
       "      <th>glimepiride.pioglitazone</th>\n",
       "      <th>metformin.rosiglitazone</th>\n",
       "      <th>metformin.pioglitazone</th>\n",
       "      <th>change</th>\n",
       "      <th>diabetesMed</th>\n",
       "      <th>readmitted</th>\n",
       "    </tr>\n",
       "  </thead>\n",
       "  <tbody>\n",
       "    <tr>\n",
       "      <th>count</th>\n",
       "      <td>101766</td>\n",
       "      <td>101766</td>\n",
       "      <td>101766</td>\n",
       "      <td>101766</td>\n",
       "      <td>101766</td>\n",
       "      <td>101766</td>\n",
       "      <td>101766</td>\n",
       "      <td>101766</td>\n",
       "      <td>101766</td>\n",
       "      <td>5346</td>\n",
       "      <td>...</td>\n",
       "      <td>101766</td>\n",
       "      <td>101766</td>\n",
       "      <td>101766</td>\n",
       "      <td>101766</td>\n",
       "      <td>101766</td>\n",
       "      <td>101766</td>\n",
       "      <td>101766</td>\n",
       "      <td>101766</td>\n",
       "      <td>101766</td>\n",
       "      <td>101766</td>\n",
       "    </tr>\n",
       "    <tr>\n",
       "      <th>unique</th>\n",
       "      <td>6</td>\n",
       "      <td>3</td>\n",
       "      <td>10</td>\n",
       "      <td>10</td>\n",
       "      <td>18</td>\n",
       "      <td>73</td>\n",
       "      <td>717</td>\n",
       "      <td>749</td>\n",
       "      <td>790</td>\n",
       "      <td>3</td>\n",
       "      <td>...</td>\n",
       "      <td>1</td>\n",
       "      <td>4</td>\n",
       "      <td>4</td>\n",
       "      <td>2</td>\n",
       "      <td>2</td>\n",
       "      <td>2</td>\n",
       "      <td>2</td>\n",
       "      <td>2</td>\n",
       "      <td>2</td>\n",
       "      <td>3</td>\n",
       "    </tr>\n",
       "    <tr>\n",
       "      <th>top</th>\n",
       "      <td>Caucasian</td>\n",
       "      <td>Female</td>\n",
       "      <td>[70-80)</td>\n",
       "      <td>?</td>\n",
       "      <td>?</td>\n",
       "      <td>?</td>\n",
       "      <td>428</td>\n",
       "      <td>276</td>\n",
       "      <td>250</td>\n",
       "      <td>Norm</td>\n",
       "      <td>...</td>\n",
       "      <td>No</td>\n",
       "      <td>No</td>\n",
       "      <td>No</td>\n",
       "      <td>No</td>\n",
       "      <td>No</td>\n",
       "      <td>No</td>\n",
       "      <td>No</td>\n",
       "      <td>No</td>\n",
       "      <td>Yes</td>\n",
       "      <td>NO</td>\n",
       "    </tr>\n",
       "    <tr>\n",
       "      <th>freq</th>\n",
       "      <td>76099</td>\n",
       "      <td>54708</td>\n",
       "      <td>26068</td>\n",
       "      <td>98569</td>\n",
       "      <td>40256</td>\n",
       "      <td>49949</td>\n",
       "      <td>6862</td>\n",
       "      <td>6752</td>\n",
       "      <td>11555</td>\n",
       "      <td>2597</td>\n",
       "      <td>...</td>\n",
       "      <td>101766</td>\n",
       "      <td>47383</td>\n",
       "      <td>101060</td>\n",
       "      <td>101753</td>\n",
       "      <td>101765</td>\n",
       "      <td>101764</td>\n",
       "      <td>101765</td>\n",
       "      <td>54755</td>\n",
       "      <td>78363</td>\n",
       "      <td>54864</td>\n",
       "    </tr>\n",
       "  </tbody>\n",
       "</table>\n",
       "<p>4 rows × 37 columns</p>\n",
       "</div>"
      ],
      "text/plain": [
       "             race  gender      age  weight payer_code medical_specialty  \\\n",
       "count      101766  101766   101766  101766     101766            101766   \n",
       "unique          6       3       10      10         18                73   \n",
       "top     Caucasian  Female  [70-80)       ?          ?                 ?   \n",
       "freq        76099   54708    26068   98569      40256             49949   \n",
       "\n",
       "        diag_1  diag_2  diag_3 max_glu_serum  ... citoglipton insulin  \\\n",
       "count   101766  101766  101766          5346  ...      101766  101766   \n",
       "unique     717     749     790             3  ...           1       4   \n",
       "top        428     276     250          Norm  ...          No      No   \n",
       "freq      6862    6752   11555          2597  ...      101766   47383   \n",
       "\n",
       "       glyburide.metformin glipizide.metformin glimepiride.pioglitazone  \\\n",
       "count               101766              101766                   101766   \n",
       "unique                   4                   2                        2   \n",
       "top                     No                  No                       No   \n",
       "freq                101060              101753                   101765   \n",
       "\n",
       "       metformin.rosiglitazone metformin.pioglitazone  change diabetesMed  \\\n",
       "count                   101766                 101766  101766      101766   \n",
       "unique                       2                      2       2           2   \n",
       "top                         No                     No      No         Yes   \n",
       "freq                    101764                 101765   54755       78363   \n",
       "\n",
       "       readmitted  \n",
       "count      101766  \n",
       "unique          3  \n",
       "top            NO  \n",
       "freq        54864  \n",
       "\n",
       "[4 rows x 37 columns]"
      ]
     },
     "execution_count": 4,
     "metadata": {},
     "output_type": "execute_result"
    }
   ],
   "source": [
    "data.describe(include=[\"object\", \"bool\"])"
   ]
  },
  {
   "cell_type": "code",
   "execution_count": 5,
   "id": "939dff45-a6ec-416c-a905-51aa8645a6ab",
   "metadata": {
    "id": "939dff45-a6ec-416c-a905-51aa8645a6ab"
   },
   "outputs": [],
   "source": [
    "data = data.replace(\"?\", np.nan)"
   ]
  },
  {
   "cell_type": "code",
   "execution_count": 6,
   "id": "6ab28ae7-65d9-4621-ae2f-71917facdc18",
   "metadata": {
    "id": "6ab28ae7-65d9-4621-ae2f-71917facdc18"
   },
   "outputs": [],
   "source": [
    "diag_1 = data.diag_1.mode()[0]\n",
    "diag_2 = data.diag_2.mode()[0]\n",
    "diag_3 = data.diag_3.mode()[0]"
   ]
  },
  {
   "cell_type": "code",
   "execution_count": 7,
   "id": "4c09edf1-f75c-4473-a584-b45ae4b0fa2f",
   "metadata": {
    "id": "4c09edf1-f75c-4473-a584-b45ae4b0fa2f"
   },
   "outputs": [],
   "source": [
    "data['diag_1'] = data['diag_1'].apply(lambda x : diag_1 if x == np.nan else x)\n",
    "data['diag_2'] = data['diag_1'].apply(lambda x : diag_2 if x == np.nan else x)\n",
    "data['diag_3'] = data['diag_3'].apply(lambda x : diag_3 if x == np.nan else x)\n"
   ]
  },
  {
   "cell_type": "code",
   "execution_count": 8,
   "id": "a75ec817-3eb6-4c1e-ad40-e54fb164b667",
   "metadata": {
    "id": "a75ec817-3eb6-4c1e-ad40-e54fb164b667"
   },
   "outputs": [],
   "source": [
    "data.diag_1 = data.diag_1.fillna(diag_1)\n",
    "data.diag_2 = data.diag_2.fillna(diag_2)\n",
    "data.diag_3 = data.diag_3.fillna(diag_3)"
   ]
  },
  {
   "cell_type": "code",
   "execution_count": 9,
   "id": "c0df0f2f-2e01-4775-836a-ff7056ccd7bf",
   "metadata": {
    "id": "c0df0f2f-2e01-4775-836a-ff7056ccd7bf"
   },
   "outputs": [],
   "source": [
    "ageDict = {'[0-10)' : 5,\n",
    "'[10-20)' : 15,\n",
    "'[20-30)' : 25,\n",
    "'[30-40)' : 35,\n",
    "'[40-50)' : 45,\n",
    "'[50-60)' : 55,\n",
    "'[60-70)' : 65,\n",
    "'[70-80)' : 75,\n",
    "'[80-90)' : 85,\n",
    "'[90-100)' : 95}\n",
    "\n",
    "data['age'] = data['age'].apply(lambda x : ageDict[x])"
   ]
  },
  {
   "cell_type": "code",
   "execution_count": 10,
   "id": "7c9c9c9a-5004-4d8c-b0da-524ec16d6800",
   "metadata": {
    "id": "7c9c9c9a-5004-4d8c-b0da-524ec16d6800"
   },
   "outputs": [],
   "source": [
    "data['diag_1'] = data['diag_1'].apply(lambda x : 'other' if (str(x).find('V') != -1 or str(x).find('E') != -1)\n",
    "                                        else ('circulatory' if int(float(x)) in range(390, 460) or int(float(x)) == 785\n",
    "                                        else     ('respiratory' if int(float(x)) in range(460, 520) or int(float(x)) == 786\n",
    "                                        else     ('digestive'   if int(float(x)) in range(520, 580) or int(float(x)) == 787\n",
    "                                        else     ('diabetes'    if int(float(x)) == 250\n",
    "                                        else     ('injury'      if int(float(x)) in range(800, 1000)\n",
    "                                        else ('musculoskeletal' if int(float(x)) in range(710, 740)\n",
    "                                        else ('genitourinary'   if int(float(x)) in range(580, 630) or int(float(x)) == 788\n",
    "                                        else ('neoplasms'       if int(float(x)) in range(140, 240)\n",
    "                                        else ('pregnecy'        if int(float(x)) in range(630, 680)\n",
    "                                        else 'other'))))))))))\n",
    "\n",
    "data['diag_2'] = data['diag_2'].apply(lambda x : 'other' if (str(x).find('V') != -1 or str(x).find('E') != -1)\n",
    "                                        else ('circulatory' if int(float(x)) in range(390, 460) or int(float(x)) == 785\n",
    "                                        else     ('respiratory' if int(float(x)) in range(460, 520) or int(float(x)) == 786\n",
    "                                        else     ('digestive'   if int(float(x)) in range(520, 580) or int(float(x)) == 787\n",
    "                                        else     ('diabetes'    if int(float(x)) == 250\n",
    "                                        else     ('injury'      if int(float(x)) in range(800, 1000)\n",
    "                                        else ('musculoskeletal' if int(float(x)) in range(710, 740)\n",
    "                                        else ('genitourinary'   if int(float(x)) in range(580, 630) or int(float(x)) == 788\n",
    "                                        else ('neoplasms'       if int(float(x)) in range(140, 240)\n",
    "                                        else ('pregnecy'        if int(float(x)) in range(630, 680)\n",
    "                                        else 'other'))))))))))\n",
    "\n",
    "data['diag_3'] = data['diag_3'].apply(lambda x : 'other' if (str(x).find('V') != -1 or str(x).find('E') != -1)\n",
    "                                        else ('circulatory' if int(float(x)) in range(390, 460) or int(float(x)) == 785\n",
    "                                        else     ('respiratory' if int(float(x)) in range(460, 520) or int(float(x)) == 786\n",
    "                                        else     ('digestive'   if int(float(x)) in range(520, 580) or int(float(x)) == 787\n",
    "                                        else     ('diabetes'    if int(float(x)) == 250\n",
    "                                        else     ('injury'      if int(float(x)) in range(800, 1000)\n",
    "                                        else ('musculoskeletal' if int(float(x)) in range(710, 740)\n",
    "                                        else ('genitourinary'   if int(float(x)) in range(580, 630) or int(float(x)) == 788\n",
    "                                        else ('neoplasms'       if int(float(x)) in range(140, 240)\n",
    "                                        else ('pregnecy'        if int(float(x)) in range(630, 680)\n",
    "                                        else 'other'))))))))))"
   ]
  },
  {
   "cell_type": "code",
   "execution_count": 11,
   "id": "cfb20284-81e7-4edd-993a-255760f346a6",
   "metadata": {
    "id": "cfb20284-81e7-4edd-993a-255760f346a6"
   },
   "outputs": [],
   "source": [
    "data['readmitted'] = data['readmitted'].apply(lambda x : 0 if (x == '>30' or x == 'NO') else 1)"
   ]
  },
  {
   "cell_type": "code",
   "execution_count": 12,
   "id": "ca61909a-817a-4282-9b9c-5f2ff5a1fb56",
   "metadata": {
    "id": "ca61909a-817a-4282-9b9c-5f2ff5a1fb56"
   },
   "outputs": [],
   "source": [
    "data['health_index'] = data.apply(lambda x:  1 / (x['number_emergency'] + x['number_inpatient'] + x['number_outpatient'])\n",
    "                                  if x['number_emergency'] != 0 or x['number_inpatient'] != 0 or x['number_outpatient'] != 0\n",
    "                                  else 1, axis = 1)\n",
    "\n",
    "\n",
    "\n",
    "total = data['time_in_hospital'].sum() + data['num_procedures'].sum() + data['num_medications'].sum()+\\\n",
    "                                data['num_lab_procedures'].sum() + data['number_diagnoses'].sum()\n",
    "\n",
    "data['severity_of_disease'] = (data['time_in_hospital'] + data['num_procedures'] +\n",
    "                              data['num_medications'] + data['num_lab_procedures'] +\n",
    "                              data['number_diagnoses']) / total\n",
    "\n",
    "drugList = ['metformin','repaglinide','nateglinide','chlorpropamide','glimepiride','acetohexamide',\n",
    "            'glipizide','glyburide','tolbutamide','pioglitazone','rosiglitazone','acarbose','miglitol',\n",
    "            'troglitazone','tolazamide','examide','citoglipton','insulin','glyburide.metformin','glipizide.metformin',\n",
    "            'glimepiride.pioglitazone','metformin.rosiglitazone','metformin.pioglitazone']\n",
    "\n",
    "\n",
    "number_of_changes = []\n",
    "for i in range(len(data)):\n",
    "    changeCount = 0\n",
    "    for col in drugList :\n",
    "        if data.iloc[i][col] in ['Down', 'Up'] :\n",
    "            changeCount += 1\n",
    "    number_of_changes.append(changeCount)\n",
    "\n",
    "data['number_of_changes'] = number_of_changes"
   ]
  },
  {
   "cell_type": "code",
   "execution_count": 13,
   "id": "35b17485-5af1-4674-9759-ab39a7aec661",
   "metadata": {
    "id": "35b17485-5af1-4674-9759-ab39a7aec661"
   },
   "outputs": [],
   "source": [
    "data['max_glu_serum'] = data['max_glu_serum'].apply(lambda x : 200 if x == '>200' else ( 300 if x == '>300' else ( 100 if x == 'Norm' else  0)))"
   ]
  },
  {
   "cell_type": "code",
   "execution_count": 14,
   "id": "ff006e3f-091d-400b-9b09-bf51c48b9274",
   "metadata": {
    "id": "ff006e3f-091d-400b-9b09-bf51c48b9274"
   },
   "outputs": [],
   "source": [
    "data['A1Cresult'] = data['A1Cresult'].apply(lambda x : 7 if x == '>7' else (8 if  x == '>8' else ( 5 if x == 'Norm' else  0)))"
   ]
  },
  {
   "cell_type": "code",
   "execution_count": 15,
   "id": "b0f27662-c257-486f-9afa-180a52c326f0",
   "metadata": {
    "id": "b0f27662-c257-486f-9afa-180a52c326f0"
   },
   "outputs": [],
   "source": [
    "for col in drugList:\n",
    "    data[col] = data[col].apply(lambda x : 10 if x == 'Up' else ( -10 if x == 'Down' else ( 0 if x == 'Steady' else  -20)))\n",
    "\n",
    "\n",
    "data['change'] = data['change'].apply(lambda x : 1 if x == 'Ch' else -1)"
   ]
  },
  {
   "cell_type": "code",
   "execution_count": 16,
   "id": "3d9f8be9-1019-49ab-931d-b209804850ba",
   "metadata": {
    "id": "3d9f8be9-1019-49ab-931d-b209804850ba"
   },
   "outputs": [],
   "source": [
    "## Engineered Features from domain knowledge\n",
    "data['total_procedures'] = data['num_procedures'] + data['num_lab_procedures']\n",
    "data['total_medical_interactions'] = data['number_outpatient'] + data['number_emergency'] + data['number_inpatient']\n",
    "data['medication_ratio'] = data['num_medications'] / data['time_in_hospital']\n",
    "data['avg_procedures_per_visit'] = data['total_procedures'] / (data['number_outpatient'] + data['number_inpatient'])\n",
    "data['diagnoses_per_procedure'] = data['number_diagnoses'] / data['total_procedures']\n",
    "\n",
    "data[\"time_in_hospital_per_procedure\"] = data[\"time_in_hospital\"] / data[\"num_procedures\"]\n",
    "data[\"number_medications_per_diagnosis\"] = data[\"num_medications\"] / data[\"number_diagnoses\"]\n",
    "data[\"average_lab_procedure_cost\"] = data[\"num_lab_procedures\"].mean()\n",
    "data[\"emergency_room_visit_rate\"] = data[\"number_emergency\"] / data.shape[0]\n",
    "data[\"inpatient_admission_rate\"] = data[\"number_inpatient\"] / data.shape[0]"
   ]
  },
  {
   "cell_type": "code",
   "execution_count": 17,
   "id": "42b56129-dc06-4b36-b347-8bd829e8bc10",
   "metadata": {
    "id": "42b56129-dc06-4b36-b347-8bd829e8bc10"
   },
   "outputs": [],
   "source": [
    "data = data.replace([np.inf, -np.inf], 0)"
   ]
  },
  {
   "cell_type": "code",
   "execution_count": 18,
   "id": "5abd34b5-a204-4286-919c-eaee77e8926f",
   "metadata": {
    "colab": {
     "base_uri": "https://localhost:8080/"
    },
    "id": "5abd34b5-a204-4286-919c-eaee77e8926f",
    "outputId": "557a4b5d-949c-45d7-bec3-c0aff4184550"
   },
   "outputs": [
    {
     "data": {
      "text/plain": [
       "weight\n",
       "UNK          98569\n",
       "[75-100)      1336\n",
       "[50-75)        897\n",
       "[100-125)      625\n",
       "[125-150)      145\n",
       "[25-50)         97\n",
       "[0-25)          48\n",
       "[150-175)       35\n",
       "[175-200)       11\n",
       ">200             3\n",
       "Name: count, dtype: int64"
      ]
     },
     "execution_count": 18,
     "metadata": {},
     "output_type": "execute_result"
    }
   ],
   "source": [
    "non_numeric_columns = data.select_dtypes(exclude=[float, int])\n",
    "data[\"weight\"]  = [\"UNK\" if str(i) == str(np.nan) else i for i in data[\"weight\"] ]\n",
    "data.weight.value_counts()"
   ]
  },
  {
   "cell_type": "code",
   "execution_count": 19,
   "id": "3cefe089-7e6e-4767-9193-a5a911271f5b",
   "metadata": {
    "id": "3cefe089-7e6e-4767-9193-a5a911271f5b"
   },
   "outputs": [],
   "source": [
    "weightDict = {'[50-75)' : '62',\n",
    "'[75-100)' : '87',\n",
    "'[100-125)' : '112',\n",
    "'[125-150)' : '137',\n",
    "'[25-50)' : '37',\n",
    "'[0-25)' : '12',\n",
    "'[150-175)' : '162',\n",
    "'[175-200)' : '187',\n",
    "'>200' : '200',\n",
    "'UNK' : f\"{np.nan}\"}\n",
    "\n",
    "data['weight'] = data['weight'].apply(lambda x : weightDict[x])"
   ]
  },
  {
   "cell_type": "code",
   "execution_count": 20,
   "id": "4f890367-d960-49f0-acdb-2443cf8b4ec6",
   "metadata": {
    "id": "4f890367-d960-49f0-acdb-2443cf8b4ec6"
   },
   "outputs": [],
   "source": [
    "data.weight = data.weight.astype(float)"
   ]
  },
  {
   "cell_type": "code",
   "execution_count": 21,
   "id": "29d758ae-56c9-4093-8c51-f2c412379903",
   "metadata": {
    "id": "29d758ae-56c9-4093-8c51-f2c412379903"
   },
   "outputs": [],
   "source": [
    "data_checkout = data.copy()"
   ]
  },
  {
   "cell_type": "code",
   "execution_count": null,
   "id": "4d58aab4-13f6-4ab4-9a7f-ae45a2c40a08",
   "metadata": {
    "id": "4d58aab4-13f6-4ab4-9a7f-ae45a2c40a08"
   },
   "outputs": [],
   "source": []
  },
  {
   "cell_type": "code",
   "execution_count": 22,
   "id": "ea9ea2f2-fe78-400f-93c1-6ce78f11fbcd",
   "metadata": {
    "id": "ea9ea2f2-fe78-400f-93c1-6ce78f11fbcd"
   },
   "outputs": [],
   "source": [
    "from sklearn.preprocessing import LabelEncoder\n",
    "label_encoder = LabelEncoder()"
   ]
  },
  {
   "cell_type": "code",
   "execution_count": 23,
   "id": "e8ba0f60-e7a3-48cc-810e-279492d776eb",
   "metadata": {
    "id": "e8ba0f60-e7a3-48cc-810e-279492d776eb"
   },
   "outputs": [],
   "source": [
    "for column in data.columns:\n",
    "    if data[column].dtype == 'object':\n",
    "        data[column] = label_encoder.fit_transform(data[column])"
   ]
  },
  {
   "cell_type": "code",
   "execution_count": 24,
   "id": "df25c6d5-98fd-4eed-a525-573060ee3cfb",
   "metadata": {
    "id": "df25c6d5-98fd-4eed-a525-573060ee3cfb"
   },
   "outputs": [],
   "source": [
    "from sklearn.preprocessing import StandardScaler\n",
    "from sklearn.model_selection import StratifiedKFold, train_test_split\n",
    "import time\n",
    "from sklearn.metrics import classification_report, confusion_matrix, accuracy_score, f1_score\n",
    "from sklearn.linear_model import LogisticRegression\n",
    "from sklearn.tree import DecisionTreeClassifier\n",
    "from sklearn.neighbors import KNeighborsClassifier\n",
    "from sklearn.ensemble import GradientBoostingClassifier,RandomForestClassifier, ExtraTreesClassifier\n",
    "from lightgbm import LGBMClassifier\n",
    "from catboost import CatBoostClassifier\n",
    "from xgboost import XGBClassifier\n",
    "from tabulate import tabulate\n",
    "from tqdm import tqdm"
   ]
  },
  {
   "cell_type": "code",
   "execution_count": 25,
   "id": "b4d48fec-f3f2-4e7d-af95-e807538e5db9",
   "metadata": {
    "colab": {
     "base_uri": "https://localhost:8080/"
    },
    "id": "b4d48fec-f3f2-4e7d-af95-e807538e5db9",
    "outputId": "14e6fd17-0a08-42fa-b6f0-f566ef92118d"
   },
   "outputs": [
    {
     "data": {
      "text/plain": [
       "98569"
      ]
     },
     "execution_count": 25,
     "metadata": {},
     "output_type": "execute_result"
    }
   ],
   "source": [
    "data.isna().sum()['weight']"
   ]
  },
  {
   "cell_type": "code",
   "execution_count": 26,
   "id": "C3sfFkEAhpkR",
   "metadata": {
    "id": "C3sfFkEAhpkR"
   },
   "outputs": [],
   "source": [
    "mean_weight = round(data.weight.mean())\n",
    "data.weight = data.weight.fillna(mean_weight)"
   ]
  },
  {
   "cell_type": "code",
   "execution_count": 27,
   "id": "EaFLKbfRhyqn",
   "metadata": {
    "id": "EaFLKbfRhyqn"
   },
   "outputs": [],
   "source": [
    "data = data.replace([np.inf, -np.inf], 0)"
   ]
  },
  {
   "cell_type": "code",
   "execution_count": 28,
   "id": "I4pi5GEZiDtJ",
   "metadata": {
    "id": "I4pi5GEZiDtJ"
   },
   "outputs": [],
   "source": [
    "data.to_csv(\"cleandat4modelling.csv\", index = False)"
   ]
  },
  {
   "cell_type": "code",
   "execution_count": 29,
   "id": "Trvz8oIqiOmB",
   "metadata": {
    "id": "Trvz8oIqiOmB"
   },
   "outputs": [],
   "source": [
    "import time\n",
    "from sklearn.model_selection import StratifiedKFold\n",
    "from sklearn.metrics import f1_score, roc_auc_score\n",
    "import numpy as np\n",
    "from tqdm import tqdm\n",
    "import pandas as pd\n",
    "from tabulate import tabulate\n",
    "\n",
    "def BasedLine(df, method, models, n_splits=10):\n",
    "    start_time = time.time()  # Record the start time\n",
    "\n",
    "    df_check = df.copy()\n",
    "\n",
    "    y = df_check['readmitted']\n",
    "    X = df_check.drop(columns='readmitted')\n",
    "\n",
    "    #X = X.fillna(0)\n",
    "    X = X.fillna(X.mean())\n",
    "\n",
    "    stratified_kfold = StratifiedKFold(n_splits=n_splits, random_state=2023, shuffle=True)\n",
    "\n",
    "    scoring = 'accuracy'\n",
    "    results, results_weigh = [], []\n",
    "    names = []\n",
    "    scores, scores_weigh = [], []\n",
    "    auc_scores = []  # Store AUC scores\n",
    "    data = []\n",
    "    for name, model in models:\n",
    "        model_scores = []\n",
    "        model_scores_weigh = []\n",
    "        model_auc_scores = []  # Store AUC scores for each fold\n",
    "\n",
    "        with tqdm(total=n_splits, desc=f\"Running {name}\") as pbar:\n",
    "            for train_idx, test_idx in stratified_kfold.split(X, y):\n",
    "                X_train, X_valid = X.iloc[train_idx], X.iloc[test_idx]\n",
    "                y_train, y_valid = y.iloc[train_idx], y.iloc[test_idx]\n",
    "\n",
    "                model.fit(X_train, y_train)\n",
    "                score_non = f1_score(model.predict(X_valid), y_valid)\n",
    "                score_weigh = f1_score(model.predict(X_valid), y_valid, average='weighted')\n",
    "                model_scores.append(score_non)\n",
    "                model_scores_weigh.append(score_weigh)\n",
    "\n",
    "                # Calculate AUC score\n",
    "                proba = model.predict_proba(X_valid)[:, 1]\n",
    "                auc = roc_auc_score(y_valid, proba)\n",
    "                model_auc_scores.append(auc)\n",
    "\n",
    "                pbar.update(1)\n",
    "\n",
    "        names.append(name)\n",
    "        scores_weigh.append(model_scores_weigh)\n",
    "        auc_scores.append(model_auc_scores)  # Store AUC scores for the model\n",
    "\n",
    "        # Calculate mean AUC score across folds\n",
    "        mean_auc = np.mean(model_auc_scores)\n",
    "\n",
    "        data.append([name, np.mean(model_scores), np.mean(model_scores_weigh), mean_auc])\n",
    "\n",
    "    headers = [\"Model\", \"F1 Score\", \"F1 Score Weighted\", \"AUC Score\"]\n",
    "    print(tabulate(data, headers=headers, tablefmt='orgtbl'))\n",
    "\n",
    "    end_time = time.time()  # Record the end time\n",
    "    execution_time = end_time - start_time\n",
    "    print(\"Execution time: {:.2f} seconds\".format(execution_time))\n",
    "\n",
    "    df_results = pd.DataFrame(data, columns=headers)\n",
    "    return df_results\n"
   ]
  },
  {
   "cell_type": "code",
   "execution_count": 30,
   "id": "VZ4Fj449iSAO",
   "metadata": {
    "id": "VZ4Fj449iSAO"
   },
   "outputs": [],
   "source": [
    "def BasedModel():\n",
    "    basedModels = []\n",
    "    basedModels.append(('LR'   , LogisticRegression()))\n",
    "    basedModels.append(('RF'   , RandomForestClassifier()))\n",
    "    basedModels.append(('GBM'  , GradientBoostingClassifier()))\n",
    "    basedModels.append(('ET'   , ExtraTreesClassifier()))\n",
    "    basedModels.append(('XG'   , XGBClassifier()))\n",
    "    basedModels.append(('LG'   , LGBMClassifier()))\n",
    "    basedModels.append(('CAT'   , CatBoostClassifier(silent=True)))\n",
    "    return basedModels"
   ]
  },
  {
   "cell_type": "code",
   "execution_count": 31,
   "id": "VDDrUDJ7iTiS",
   "metadata": {
    "id": "VDDrUDJ7iTiS"
   },
   "outputs": [],
   "source": [
    "models = BasedModel()"
   ]
  },
  {
   "cell_type": "code",
   "execution_count": 32,
   "id": "RwoxGDAGiV9k",
   "metadata": {
    "id": "RwoxGDAGiV9k"
   },
   "outputs": [],
   "source": [
    "import warnings\n",
    "warnings.simplefilter(action='ignore', category=FutureWarning)"
   ]
  },
  {
   "cell_type": "code",
   "execution_count": 33,
   "id": "wO8D083diYBa",
   "metadata": {
    "colab": {
     "base_uri": "https://localhost:8080/"
    },
    "id": "wO8D083diYBa",
    "outputId": "4e4ef784-16e8-4807-9fc4-9abf9192cf53"
   },
   "outputs": [
    {
     "name": "stderr",
     "output_type": "stream",
     "text": [
      "Running LR: 100%|██████████████████████████████████████████████████████████████████████| 10/10 [00:09<00:00,  1.10it/s]\n",
      "Running RF: 100%|██████████████████████████████████████████████████████████████████████| 10/10 [12:32<00:00, 75.28s/it]\n",
      "Running GBM: 100%|█████████████████████████████████████████████████████████████████| 10/10 [4:53:44<00:00, 1762.45s/it]\n",
      "Running ET: 100%|██████████████████████████████████████████████████████████████████████| 10/10 [14:48<00:00, 88.88s/it]\n",
      "Running XG: 100%|██████████████████████████████████████████████████████████████████████| 10/10 [00:27<00:00,  2.73s/it]\n",
      "Running LG:   0%|                                                                               | 0/10 [00:00<?, ?it/s]"
     ]
    },
    {
     "name": "stdout",
     "output_type": "stream",
     "text": [
      "[LightGBM] [Info] Number of positive: 10221, number of negative: 81368\n",
      "[LightGBM] [Info] Auto-choosing row-wise multi-threading, the overhead of testing was 0.026324 seconds.\n",
      "You can set `force_row_wise=true` to remove the overhead.\n",
      "And if memory is not enough, you can set `force_col_wise=true`.\n",
      "[LightGBM] [Info] Total Bins 2745\n",
      "[LightGBM] [Info] Number of data points in the train set: 91589, number of used features: 54\n",
      "[LightGBM] [Info] [binary:BoostFromScore]: pavg=0.111596 -> initscore=-2.074538\n",
      "[LightGBM] [Info] Start training from score -2.074538\n"
     ]
    },
    {
     "name": "stderr",
     "output_type": "stream",
     "text": [
      "Running LG:  10%|███████                                                                | 1/10 [00:02<00:22,  2.50s/it]"
     ]
    },
    {
     "name": "stdout",
     "output_type": "stream",
     "text": [
      "[LightGBM] [Info] Number of positive: 10221, number of negative: 81368\n",
      "[LightGBM] [Info] Auto-choosing row-wise multi-threading, the overhead of testing was 0.034491 seconds.\n",
      "You can set `force_row_wise=true` to remove the overhead.\n",
      "And if memory is not enough, you can set `force_col_wise=true`.\n",
      "[LightGBM] [Info] Total Bins 2741\n",
      "[LightGBM] [Info] Number of data points in the train set: 91589, number of used features: 54\n",
      "[LightGBM] [Info] [binary:BoostFromScore]: pavg=0.111596 -> initscore=-2.074538\n",
      "[LightGBM] [Info] Start training from score -2.074538\n"
     ]
    },
    {
     "name": "stderr",
     "output_type": "stream",
     "text": [
      "Running LG:  20%|██████████████▏                                                        | 2/10 [00:04<00:18,  2.28s/it]"
     ]
    },
    {
     "name": "stdout",
     "output_type": "stream",
     "text": [
      "[LightGBM] [Info] Number of positive: 10221, number of negative: 81368\n",
      "[LightGBM] [Info] Auto-choosing row-wise multi-threading, the overhead of testing was 0.029820 seconds.\n",
      "You can set `force_row_wise=true` to remove the overhead.\n",
      "And if memory is not enough, you can set `force_col_wise=true`.\n",
      "[LightGBM] [Info] Total Bins 2736\n",
      "[LightGBM] [Info] Number of data points in the train set: 91589, number of used features: 54\n",
      "[LightGBM] [Info] [binary:BoostFromScore]: pavg=0.111596 -> initscore=-2.074538\n",
      "[LightGBM] [Info] Start training from score -2.074538\n"
     ]
    },
    {
     "name": "stderr",
     "output_type": "stream",
     "text": [
      "Running LG:  30%|█████████████████████▎                                                 | 3/10 [00:06<00:15,  2.17s/it]"
     ]
    },
    {
     "name": "stdout",
     "output_type": "stream",
     "text": [
      "[LightGBM] [Info] Number of positive: 10221, number of negative: 81368\n",
      "[LightGBM] [Info] Auto-choosing row-wise multi-threading, the overhead of testing was 0.026320 seconds.\n",
      "You can set `force_row_wise=true` to remove the overhead.\n",
      "And if memory is not enough, you can set `force_col_wise=true`.\n",
      "[LightGBM] [Info] Total Bins 2744\n",
      "[LightGBM] [Info] Number of data points in the train set: 91589, number of used features: 54\n",
      "[LightGBM] [Info] [binary:BoostFromScore]: pavg=0.111596 -> initscore=-2.074538\n",
      "[LightGBM] [Info] Start training from score -2.074538\n"
     ]
    },
    {
     "name": "stderr",
     "output_type": "stream",
     "text": [
      "Running LG:  40%|████████████████████████████▍                                          | 4/10 [00:08<00:12,  2.14s/it]"
     ]
    },
    {
     "name": "stdout",
     "output_type": "stream",
     "text": [
      "[LightGBM] [Info] Number of positive: 10221, number of negative: 81368\n",
      "[LightGBM] [Info] Auto-choosing row-wise multi-threading, the overhead of testing was 0.028021 seconds.\n",
      "You can set `force_row_wise=true` to remove the overhead.\n",
      "And if memory is not enough, you can set `force_col_wise=true`.\n",
      "[LightGBM] [Info] Total Bins 2736\n",
      "[LightGBM] [Info] Number of data points in the train set: 91589, number of used features: 54\n",
      "[LightGBM] [Info] [binary:BoostFromScore]: pavg=0.111596 -> initscore=-2.074538\n",
      "[LightGBM] [Info] Start training from score -2.074538\n"
     ]
    },
    {
     "name": "stderr",
     "output_type": "stream",
     "text": [
      "Running LG:  50%|███████████████████████████████████▌                                   | 5/10 [00:10<00:10,  2.12s/it]"
     ]
    },
    {
     "name": "stdout",
     "output_type": "stream",
     "text": [
      "[LightGBM] [Info] Number of positive: 10221, number of negative: 81368\n",
      "[LightGBM] [Info] Auto-choosing row-wise multi-threading, the overhead of testing was 0.025286 seconds.\n",
      "You can set `force_row_wise=true` to remove the overhead.\n",
      "And if memory is not enough, you can set `force_col_wise=true`.\n",
      "[LightGBM] [Info] Total Bins 2731\n",
      "[LightGBM] [Info] Number of data points in the train set: 91589, number of used features: 53\n",
      "[LightGBM] [Info] [binary:BoostFromScore]: pavg=0.111596 -> initscore=-2.074538\n",
      "[LightGBM] [Info] Start training from score -2.074538\n"
     ]
    },
    {
     "name": "stderr",
     "output_type": "stream",
     "text": [
      "Running LG:  60%|██████████████████████████████████████████▌                            | 6/10 [00:12<00:08,  2.09s/it]"
     ]
    },
    {
     "name": "stdout",
     "output_type": "stream",
     "text": [
      "[LightGBM] [Info] Number of positive: 10222, number of negative: 81368\n",
      "[LightGBM] [Info] Auto-choosing row-wise multi-threading, the overhead of testing was 0.025722 seconds.\n",
      "You can set `force_row_wise=true` to remove the overhead.\n",
      "And if memory is not enough, you can set `force_col_wise=true`.\n",
      "[LightGBM] [Info] Total Bins 2741\n",
      "[LightGBM] [Info] Number of data points in the train set: 91590, number of used features: 54\n",
      "[LightGBM] [Info] [binary:BoostFromScore]: pavg=0.111606 -> initscore=-2.074440\n",
      "[LightGBM] [Info] Start training from score -2.074440\n"
     ]
    },
    {
     "name": "stderr",
     "output_type": "stream",
     "text": [
      "Running LG:  70%|█████████████████████████████████████████████████▋                     | 7/10 [00:15<00:06,  2.11s/it]"
     ]
    },
    {
     "name": "stdout",
     "output_type": "stream",
     "text": [
      "[LightGBM] [Info] Number of positive: 10222, number of negative: 81368\n",
      "[LightGBM] [Info] Auto-choosing row-wise multi-threading, the overhead of testing was 0.026872 seconds.\n",
      "You can set `force_row_wise=true` to remove the overhead.\n",
      "And if memory is not enough, you can set `force_col_wise=true`.\n",
      "[LightGBM] [Info] Total Bins 2742\n",
      "[LightGBM] [Info] Number of data points in the train set: 91590, number of used features: 54\n",
      "[LightGBM] [Info] [binary:BoostFromScore]: pavg=0.111606 -> initscore=-2.074440\n",
      "[LightGBM] [Info] Start training from score -2.074440\n"
     ]
    },
    {
     "name": "stderr",
     "output_type": "stream",
     "text": [
      "Running LG:  80%|████████████████████████████████████████████████████████▊              | 8/10 [00:17<00:04,  2.08s/it]"
     ]
    },
    {
     "name": "stdout",
     "output_type": "stream",
     "text": [
      "[LightGBM] [Info] Number of positive: 10222, number of negative: 81368\n",
      "[LightGBM] [Info] Auto-choosing row-wise multi-threading, the overhead of testing was 0.024814 seconds.\n",
      "You can set `force_row_wise=true` to remove the overhead.\n",
      "And if memory is not enough, you can set `force_col_wise=true`.\n",
      "[LightGBM] [Info] Total Bins 2745\n",
      "[LightGBM] [Info] Number of data points in the train set: 91590, number of used features: 54\n",
      "[LightGBM] [Info] [binary:BoostFromScore]: pavg=0.111606 -> initscore=-2.074440\n",
      "[LightGBM] [Info] Start training from score -2.074440\n"
     ]
    },
    {
     "name": "stderr",
     "output_type": "stream",
     "text": [
      "Running LG:  90%|███████████████████████████████████████████████████████████████▉       | 9/10 [00:19<00:02,  2.07s/it]"
     ]
    },
    {
     "name": "stdout",
     "output_type": "stream",
     "text": [
      "[LightGBM] [Info] Number of positive: 10221, number of negative: 81369\n",
      "[LightGBM] [Info] Auto-choosing row-wise multi-threading, the overhead of testing was 0.032471 seconds.\n",
      "You can set `force_row_wise=true` to remove the overhead.\n",
      "And if memory is not enough, you can set `force_col_wise=true`.\n",
      "[LightGBM] [Info] Total Bins 2747\n",
      "[LightGBM] [Info] Number of data points in the train set: 91590, number of used features: 54\n",
      "[LightGBM] [Info] [binary:BoostFromScore]: pavg=0.111595 -> initscore=-2.074550\n",
      "[LightGBM] [Info] Start training from score -2.074550\n"
     ]
    },
    {
     "name": "stderr",
     "output_type": "stream",
     "text": [
      "Running LG: 100%|██████████████████████████████████████████████████████████████████████| 10/10 [00:21<00:00,  2.19s/it]\n",
      "Running CAT: 100%|█████████████████████████████████████████████████████████████████████| 10/10 [09:52<00:00, 59.28s/it]"
     ]
    },
    {
     "name": "stdout",
     "output_type": "stream",
     "text": [
      "| Model   |   F1 Score |   F1 Score Weighted |   AUC Score |\n",
      "|---------+------------+---------------------+-------------|\n",
      "| LR      |  0         |            0.940903 |    0.503354 |\n",
      "| RF      |  0.0223639 |            0.938567 |    0.640036 |\n",
      "| GBM     |  0.0197065 |            0.939105 |    0.674276 |\n",
      "| ET      |  0.0222025 |            0.93854  |    0.634758 |\n",
      "| XG      |  0.0625081 |            0.933193 |    0.666421 |\n",
      "| LG      |  0.0354969 |            0.938014 |    0.680229 |\n",
      "| CAT     |  0.0528378 |            0.936152 |    0.680512 |\n",
      "Execution time: 19917.40 seconds\n"
     ]
    },
    {
     "name": "stderr",
     "output_type": "stream",
     "text": [
      "\n"
     ]
    }
   ],
   "source": [
    "#result\n",
    "result = BasedLine(df = data, method = False , models = models, n_splits=10)"
   ]
  },
  {
   "cell_type": "code",
   "execution_count": 37,
   "id": "DV0zK6PXiaVp",
   "metadata": {
    "colab": {
     "base_uri": "https://localhost:8080/",
     "height": 269
    },
    "id": "DV0zK6PXiaVp",
    "outputId": "ab6cd5bb-41fb-4046-e622-58e95a482e2a"
   },
   "outputs": [
    {
     "data": {
      "text/html": [
       "<div>\n",
       "<style scoped>\n",
       "    .dataframe tbody tr th:only-of-type {\n",
       "        vertical-align: middle;\n",
       "    }\n",
       "\n",
       "    .dataframe tbody tr th {\n",
       "        vertical-align: top;\n",
       "    }\n",
       "\n",
       "    .dataframe thead th {\n",
       "        text-align: right;\n",
       "    }\n",
       "</style>\n",
       "<table border=\"1\" class=\"dataframe\">\n",
       "  <thead>\n",
       "    <tr style=\"text-align: right;\">\n",
       "      <th></th>\n",
       "      <th>Model</th>\n",
       "      <th>F1 Score</th>\n",
       "      <th>F1 Score Weighted</th>\n",
       "      <th>AUC Score</th>\n",
       "    </tr>\n",
       "  </thead>\n",
       "  <tbody>\n",
       "    <tr>\n",
       "      <th>0</th>\n",
       "      <td>LR</td>\n",
       "      <td>0.000000</td>\n",
       "      <td>0.940903</td>\n",
       "      <td>0.503354</td>\n",
       "    </tr>\n",
       "    <tr>\n",
       "      <th>1</th>\n",
       "      <td>RF</td>\n",
       "      <td>0.022364</td>\n",
       "      <td>0.938567</td>\n",
       "      <td>0.640036</td>\n",
       "    </tr>\n",
       "    <tr>\n",
       "      <th>2</th>\n",
       "      <td>GBM</td>\n",
       "      <td>0.019706</td>\n",
       "      <td>0.939105</td>\n",
       "      <td>0.674276</td>\n",
       "    </tr>\n",
       "    <tr>\n",
       "      <th>3</th>\n",
       "      <td>ET</td>\n",
       "      <td>0.022203</td>\n",
       "      <td>0.938540</td>\n",
       "      <td>0.634758</td>\n",
       "    </tr>\n",
       "    <tr>\n",
       "      <th>4</th>\n",
       "      <td>XG</td>\n",
       "      <td>0.062508</td>\n",
       "      <td>0.933193</td>\n",
       "      <td>0.666421</td>\n",
       "    </tr>\n",
       "    <tr>\n",
       "      <th>5</th>\n",
       "      <td>LG</td>\n",
       "      <td>0.035497</td>\n",
       "      <td>0.938014</td>\n",
       "      <td>0.680229</td>\n",
       "    </tr>\n",
       "    <tr>\n",
       "      <th>6</th>\n",
       "      <td>CAT</td>\n",
       "      <td>0.052838</td>\n",
       "      <td>0.936152</td>\n",
       "      <td>0.680512</td>\n",
       "    </tr>\n",
       "  </tbody>\n",
       "</table>\n",
       "</div>"
      ],
      "text/plain": [
       "  Model  F1 Score  F1 Score Weighted  AUC Score\n",
       "0    LR  0.000000           0.940903   0.503354\n",
       "1    RF  0.022364           0.938567   0.640036\n",
       "2   GBM  0.019706           0.939105   0.674276\n",
       "3    ET  0.022203           0.938540   0.634758\n",
       "4    XG  0.062508           0.933193   0.666421\n",
       "5    LG  0.035497           0.938014   0.680229\n",
       "6   CAT  0.052838           0.936152   0.680512"
      ]
     },
     "execution_count": 37,
     "metadata": {},
     "output_type": "execute_result"
    }
   ],
   "source": [
    "result"
   ]
  },
  {
   "cell_type": "code",
   "execution_count": 35,
   "id": "Nr3lMrs1kq-z",
   "metadata": {
    "id": "Nr3lMrs1kq-z"
   },
   "outputs": [],
   "source": [
    "import matplotlib.pyplot as plt\n",
    "import seaborn as sns  # Import seaborn for color palettes\n",
    "\n",
    "def plot_bar_and_histogram(dataframe):\n",
    "    plt.figure(figsize=(15, 5))\n",
    "\n",
    "    # Define a color palette with the number of unique models in the DataFrame\n",
    "    num_models = len(dataframe['Model'])\n",
    "    colors = sns.color_palette('husl', n_colors=num_models)\n",
    "\n",
    "    # Bar plot for F1 Score\n",
    "    ax1 = plt.subplot(1, 3, 1)\n",
    "    bars = plt.bar(dataframe['Model'], dataframe['F1 Score'], color=colors)\n",
    "    plt.xlabel('Model')\n",
    "    plt.ylabel('F1 Score')\n",
    "    plt.title('Plot of F1 Score')\n",
    "\n",
    "    # Add text annotations to the bars\n",
    "    for bar in bars:\n",
    "        yval = bar.get_height()\n",
    "        plt.text(bar.get_x() + bar.get_width()/2, yval, round(yval, 3), ha='center', va='bottom')\n",
    "\n",
    "    # Bar plot for F1 Score Weighted\n",
    "    plt.subplot(1, 3, 2)\n",
    "    barss = plt.bar(dataframe['Model'], dataframe['F1 Score Weighted'], color=colors)\n",
    "    plt.xlabel('Model')\n",
    "    plt.ylabel('F1 Score Weighted')\n",
    "    plt.title('Plot of F1 Score Weighted')\n",
    "\n",
    "    # Add text annotations to the bars\n",
    "    for bar in barss:\n",
    "        yval = bar.get_height()\n",
    "        plt.text(bar.get_x() + bar.get_width()/2, yval, round(yval, 3), ha='center', va='bottom')\n",
    "        \n",
    "    # Bar plot for AUC Score\n",
    "    plt.subplot(1, 3, 3)\n",
    "    barss = plt.bar(dataframe['Model'], dataframe['AUC Score'], color=colors)\n",
    "    plt.xlabel('Model')\n",
    "    plt.ylabel('AUC Score')\n",
    "    plt.title('Plot of AUC Score')\n",
    "\n",
    "    # Add text annotations to the bars\n",
    "    for bar in barss:\n",
    "        yval = bar.get_height()\n",
    "        plt.text(bar.get_x() + bar.get_width()/2, yval, round(yval, 3), ha='center', va='bottom')\n",
    "\n",
    "    plt.tight_layout()\n",
    "    plt.show()\n"
   ]
  },
  {
   "cell_type": "code",
   "execution_count": 36,
   "id": "cc9d04f7-ccb2-4573-accd-9f80935ea3e7",
   "metadata": {},
   "outputs": [
    {
     "data": {
      "image/png": "[encoded data removed]",
      "text/plain": [
       "<Figure size 1500x500 with 3 Axes>"
      ]
     },
     "metadata": {},
     "output_type": "display_data"
    }
   ],
   "source": [
    "plot_bar_and_histogram(dataframe = result)"
   ]
  },
  {
   "cell_type": "code",
   "execution_count": null,
   "id": "a16ea51e-b77b-4e55-9404-ad76646a691a",
   "metadata": {},
   "outputs": [],
   "source": []
  }
 ],
 "metadata": {
  "colab": {
   "provenance": []
  },
  "kernelspec": {
   "display_name": "Python 3 (ipykernel)",
   "language": "python",
   "name": "python3"
  },
  "language_info": {
   "codemirror_mode": {
    "name": "ipython",
    "version": 3
   },
   "file_extension": ".py",
   "mimetype": "text/x-python",
   "name": "python",
   "nbconvert_exporter": "python",
   "pygments_lexer": "ipython3",
   "version": "3.11.4"
  }
 },
 "nbformat": 4,
 "nbformat_minor": 5
}
